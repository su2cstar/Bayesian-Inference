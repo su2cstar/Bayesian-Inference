{
 "cells": [
  {
   "cell_type": "code",
   "execution_count": 120,
   "metadata": {},
   "outputs": [],
   "source": [
    "import numpy as np\n",
    "import pandas as pd\n",
    "import matplotlib.pyplot as plt\n",
    "import scipy.stats as stats\n",
    "from scipy.special import digamma \n",
    "from scipy.linalg import sqrtm\n",
    "from scipy.special import expit\n",
    "import seaborn as sns"
   ]
  },
  {
   "cell_type": "code",
   "execution_count": 121,
   "metadata": {},
   "outputs": [],
   "source": [
    "num_of_sample = 800"
   ]
  },
  {
   "cell_type": "markdown",
   "metadata": {},
   "source": [
    "XX'를 계산해주는 함수 (파이썬에서 벡터 * 벡터는 항상 스칼라 값을 가짐)"
   ]
  },
  {
   "cell_type": "code",
   "execution_count": 122,
   "metadata": {},
   "outputs": [],
   "source": [
    "def product(a):\n",
    "    n = len(a)\n",
    "    out = np.zeros([n,n])\n",
    "    for i in range(n):\n",
    "        for j in range(n):\n",
    "            out[i,j] = a[i]*a[j]\n",
    "    return(out)"
   ]
  },
  {
   "cell_type": "markdown",
   "metadata": {},
   "source": [
    "Radial Basis로 변환하기 위해서 knot의 개수와 위치를 지정해주고 변환해주는 함수"
   ]
  },
  {
   "cell_type": "code",
   "execution_count": 123,
   "metadata": {},
   "outputs": [],
   "source": [
    "def defineKnot(X,K=30):\n",
    "    upper = max(X)\n",
    "    lower = min(X)\n",
    "    out = np.linspace(start=lower,stop=upper,num=K+2)[1:K+1]\n",
    "    return(out)"
   ]
  },
  {
   "cell_type": "code",
   "execution_count": 124,
   "metadata": {},
   "outputs": [],
   "source": [
    "def b(u,tau,sd):\n",
    "    lst = []\n",
    "    #lst.append(np.ones(len(u)))\n",
    "    #lst.append(u)\n",
    "    for i in tau:\n",
    "        lst.append(abs((u-i)/sd)**3)\n",
    "    out = np.array(lst)\n",
    "    return(out)"
   ]
  },
  {
   "cell_type": "markdown",
   "metadata": {},
   "source": [
    "Toy data를 만들기 위해서 함수를 지정해주고 정규분포 오차를 더해서 만들어주는 함수"
   ]
  },
  {
   "cell_type": "code",
   "execution_count": 125,
   "metadata": {},
   "outputs": [],
   "source": [
    "def f1(x):\n",
    "    #out = np.sin(2*np.pi*x)\n",
    "    out = 3*np.exp(-30*(x-0.2)**2) + np.exp(-50*(x-0.7)**2)\n",
    "    return(out)\n",
    "def f2(x):\n",
    "    out = np.sin(2*np.pi*x)\n",
    "    #out = 3*np.exp(-30*(x-0.2)**2) + np.exp(-50*(x-0.7)**2)\n",
    "    return(out)\n",
    "def f3(x):\n",
    "    #out = np.sin(2*np.pi*x)\n",
    "    #out = 3*np.exp(-30*(x-0.2)**2) + np.exp(-50*(x-0.7)**2)\n",
    "    out = x\n",
    "    return(out)\n",
    "def f4(x):\n",
    "    #out = np.sin(2*np.pi*x)\n",
    "    #out = 3*np.exp(-30*(x-0.2)**2) + np.exp(-50*(x-0.7)**2)\n",
    "    out = 0*x\n",
    "    return(out)"
   ]
  },
  {
   "cell_type": "code",
   "execution_count": 126,
   "metadata": {},
   "outputs": [],
   "source": [
    "def mkToys(n=800,tau = 0.5):\n",
    "    np.random.seed(4428)\n",
    "    #non linear\n",
    "    x1 = np.random.uniform(size = n)\n",
    "    x2 = np.random.uniform(size = n)\n",
    "    x3 = np.random.uniform(size = n)\n",
    "    x4 = np.random.uniform(size = n)\n",
    "    #linear\n",
    "    z1 = np.random.uniform(size = n)\n",
    "    z2 = np.random.uniform(size = n)\n",
    "    z3 = np.random.uniform(size = n)\n",
    "    z4 = np.random.uniform(size = n)\n",
    "    e = np.random.normal(0,np.sqrt(0.5), size= n)\n",
    "    y = f1(x1) + f2(x2) + f3(x3) + f4(x4)+ 0.6*z1 -1*z2 + e\n",
    "    #out = np.column_stack([x,y])\n",
    "    return(x1,x2,x3,x4,z1,z2,z3,z4,y)"
   ]
  },
  {
   "cell_type": "markdown",
   "metadata": {},
   "source": [
    "# Make Toy Data and Basis"
   ]
  },
  {
   "cell_type": "code",
   "execution_count": 127,
   "metadata": {},
   "outputs": [],
   "source": [
    "x1,x2,x3,x4,z1,z2,z3,z4,y = mkToys(num_of_sample)\n",
    "y= y-y.mean()"
   ]
  },
  {
   "cell_type": "code",
   "execution_count": 128,
   "metadata": {},
   "outputs": [],
   "source": [
    "sd1 = np.std(x1)\n",
    "knot1 = defineKnot(x1)\n",
    "d_x1 = b(x1,knot1,sd1).T\n",
    "\n",
    "sd2 = np.std(x2)\n",
    "knot2 = defineKnot(x2)\n",
    "d_x2 = b(x2,knot2,sd2).T\n",
    "\n",
    "sd3 = np.std(x3)\n",
    "knot3 = defineKnot(x3)\n",
    "d_x3 = b(x3,knot3,sd3).T\n",
    "\n",
    "sd4 = np.std(x4)\n",
    "knot4 = defineKnot(x4)\n",
    "d_x4 = b(x4,knot4,sd4).T"
   ]
  },
  {
   "cell_type": "markdown",
   "metadata": {},
   "source": [
    "# MFVB without variable selection"
   ]
  },
  {
   "cell_type": "code",
   "execution_count": 129,
   "metadata": {},
   "outputs": [],
   "source": [
    "def mfvb(X,y,max_iter=100):\n",
    "    \n",
    "    N,p = X.shape\n",
    "    a ,b, c, d = [10**(-7)]*4\n",
    "    a_tilde = np.repeat(a + 0.5, p)\n",
    "    b_tilde = np.repeat(b,p)\n",
    "    c_tilde = c + (N+1)/2\n",
    "    d_tilde = d\n",
    "    \n",
    "    mu_coeffs = np.repeat(0,p)\n",
    "    sigma_coeffs = np.diag(np.repeat(1,p))\n",
    "    \n",
    "    for i in range(max_iter):\n",
    "        expected_coeffs = mu_coeffs\n",
    "        double_expected_coeffs = sigma_coeffs + product(mu_coeffs)\n",
    "        diagonal_sigma = np.diag(sigma_coeffs)\n",
    "        expected_alpha = np.array(list(map(lambda x : a_tilde[x]/b_tilde[x] , np.arange(0,p))))\n",
    "        log_expected_alpha = np.array(list(map(lambda x : digamma(a_tilde[x])-np.log(b_tilde[x]) , np.arange(0,p))))\n",
    "        expected_tau = c_tilde / d_tilde\n",
    "        log_expected_tau = digamma(c_tilde)-np.log(d_tilde)\n",
    "        sigma_coeffs = np.linalg.inv(np.diag(expected_alpha)+expected_tau*(X.T.dot(X)))\n",
    "        mu_coeffs =  expected_tau*sigma_coeffs.dot(X.T.dot(y))\n",
    "        b_tilde = np.array(list(map(lambda x : (diagonal_sigma[x]+mu_coeffs[x]**2)/2 + b , np.arange(0,p))))\n",
    "        d_tilde = d+0.5*(y.T.dot(y)) - expected_coeffs.T.dot((X.T.dot(y)))+ 0.5*sum(np.diag(X.dot(double_expected_coeffs).dot(X.T)))\n",
    "    return mu_coeffs,sigma_coeffs"
   ]
  },
  {
   "cell_type": "code",
   "execution_count": 130,
   "metadata": {},
   "outputs": [],
   "source": [
    "def ci95s(m,c,y,x,d_x,n=1000):\n",
    "    np.random.seed(4428)\n",
    "    sampled_coef = np.random.multivariate_normal(m,c,size=n)\n",
    "    y_grid = np.array([d_x.dot(b) for b in sampled_coef])\n",
    "    quantile = np.array([np.sort(x)[[int(n*0.025),int(n*0.5),int(n*0.975)]] for x in y_grid.T])\n",
    "    xq = np.array(sorted(np.array([x,quantile[:,0],quantile[:,1],quantile[:,2]]).T,key= lambda x : x[0]))\n",
    "    plt.fill_between(xq[:,0], xq[:,1],xq[:,3], color =(0,0,0,0.2))\n",
    "    plt.plot(xq[:,0],xq[:,2],'k',grid_x, y, '--')\n",
    "    #plt.plot(x_grid,y_grid[10],'k',x_grid, f(x_grid), '--')\n",
    "    plt.ylim(-2,2)\n",
    "    #plt.show()"
   ]
  },
  {
   "cell_type": "code",
   "execution_count": 131,
   "metadata": {},
   "outputs": [
    {
     "data": {
      "text/plain": [
       "'m1,c1 = mfvb(d_x1,y)\\nm2,c2 = mfvb(d_x2,y)\\nm3,c3 = mfvb(d_x3,y)\\nm4,c4 = mfvb(d_x4,y)'"
      ]
     },
     "execution_count": 131,
     "metadata": {},
     "output_type": "execute_result"
    }
   ],
   "source": [
    "'''m1,c1 = mfvb(d_x1,y)\n",
    "m2,c2 = mfvb(d_x2,y)\n",
    "m3,c3 = mfvb(d_x3,y)\n",
    "m4,c4 = mfvb(d_x4,y)'''"
   ]
  },
  {
   "cell_type": "code",
   "execution_count": 132,
   "metadata": {},
   "outputs": [
    {
     "data": {
      "text/plain": [
       "\"grid_x = np.linspace(0,1,1000)\\ny1 = f1(grid_x)- f1(grid_x).mean()\\ny2 = f2(grid_x)- f2(grid_x).mean()\\ny3 = f3(grid_x)- f3(grid_x).mean()\\ny4 = f4(grid_x)- f4(grid_x).mean()\\n\\nplt.figure(figsize=(10,5))\\n\\n\\nplt.subplot(221)\\nplt.title('f1')\\nci95s(m1,c1,y1,x1,d_x1)\\n\\nplt.subplot(222)\\nplt.title('f2')\\nci95s(m2,c2,y2,x2,d_x2)\\n\\nplt.subplot(223)\\nplt.title('f3')\\nci95s(m3,c3,y3,x3,d_x3)\\n\\nplt.subplot(224)\\nplt.title('f4')\\nci95s(m4,c4,y4,x4,d_x4)\\n\\n\\nplt.show()\""
      ]
     },
     "execution_count": 132,
     "metadata": {},
     "output_type": "execute_result"
    }
   ],
   "source": [
    "'''grid_x = np.linspace(0,1,1000)\n",
    "y1 = f1(grid_x)- f1(grid_x).mean()\n",
    "y2 = f2(grid_x)- f2(grid_x).mean()\n",
    "y3 = f3(grid_x)- f3(grid_x).mean()\n",
    "y4 = f4(grid_x)- f4(grid_x).mean()\n",
    "\n",
    "plt.figure(figsize=(10,5))\n",
    "\n",
    "\n",
    "plt.subplot(221)\n",
    "plt.title('f1')\n",
    "ci95s(m1,c1,y1,x1,d_x1)\n",
    "\n",
    "plt.subplot(222)\n",
    "plt.title('f2')\n",
    "ci95s(m2,c2,y2,x2,d_x2)\n",
    "\n",
    "plt.subplot(223)\n",
    "plt.title('f3')\n",
    "ci95s(m3,c3,y3,x3,d_x3)\n",
    "\n",
    "plt.subplot(224)\n",
    "plt.title('f4')\n",
    "ci95s(m4,c4,y4,x4,d_x4)\n",
    "\n",
    "\n",
    "plt.show()'''"
   ]
  },
  {
   "cell_type": "markdown",
   "metadata": {},
   "source": [
    "# MFVB with variable selection"
   ]
  },
  {
   "cell_type": "code",
   "execution_count": 133,
   "metadata": {},
   "outputs": [],
   "source": [
    "def cil95s(m,c,w,x,d_x,y,n=1000):\n",
    "    np.random.seed(4428)\n",
    "    #smaple_gam = np.random.r\n",
    "    sampled_coef = np.random.multivariate_normal(m,c,size=n)\n",
    "    lst = []\n",
    "    for j in w:\n",
    "        lst.append(np.random.binomial(1,j))\n",
    "    w2ar = np.array(lst)\n",
    "    \n",
    "    y_grid = np.array([d_x.dot(np.diag(w2ar)).dot(b) for b in sampled_coef])\n",
    "    #quantile = np.array([np.sort(x)[[int(n*0.05),int(n*0.5),int(n*0.95)]] for x in y_grid.T])\n",
    "    quantile = np.array([np.sort(x)[[int(n*0.01),int(n*0.5),int(n*0.99)]] for x in y_grid.T])\n",
    "    \n",
    "    plt.ylim(-1.7,1.7)\n",
    "    xq = np.array(sorted(np.array([x,quantile[:,0],quantile[:,1],quantile[:,2]]).T,key= lambda x : x[0]))\n",
    "    plt.fill_between(xq[:,0], xq[:,1],xq[:,3], color =(0,0,0,0.2))\n",
    "    #y = f(grid_x)- f(grid_x).mean()\n",
    "    #plt.ylim(-1.5,1.5)\n",
    "    plt.hlines(y=0,linestyles='dashed',colors='gray',xmin=0,xmax=1)\n",
    "    plt.plot(xq[:,0],xq[:,2],'k',grid_x, y, '--')\n",
    "    #plt.plot(x_grid,y_grid[10],'k',x_grid, f(x_grid), '--')\n",
    "    plt.ylim(-2,2)\n",
    "    #plt.show()"
   ]
  },
  {
   "cell_type": "markdown",
   "metadata": {},
   "source": [
    "## plat prior $\\rho$"
   ]
  },
  {
   "cell_type": "code",
   "execution_count": 134,
   "metadata": {},
   "outputs": [],
   "source": [
    "def vselect_flat_rho(X,y,maxiter=100,rho = 0.5):\n",
    "    N,p = X.shape\n",
    "    sigmab = 1\n",
    "    A = 10**(-7)\n",
    "    B = 10**(-7)\n",
    "    tau = 1\n",
    "    w = np.repeat(0.5,p)\n",
    "    lamb= np.log(rho/(1-rho))\n",
    "    t = 0\n",
    "    for iteration in range(maxiter):\n",
    "        test= False\n",
    "        W = np.diag(w)\n",
    "        omega = product(w) + W.dot(np.eye(p)-W)\n",
    "        sigma = np.linalg.inv(tau*np.multiply(X.T.dot(X),omega)+ (1/sigmab) * np.eye(p))\n",
    "        mu = tau*sigma.dot(W.dot(X.T.dot(y)))\n",
    "\n",
    "        s = B + 0.5*(np.linalg.norm(y)**2 -2*y.T.dot(X).dot(W).dot(mu) + np.trace(np.multiply(X.T.dot(X),omega).dot(product(mu) +sigma)))\n",
    "        tau = (A+N/2)/s\n",
    "\n",
    "        wstar = w.copy()\n",
    "        eta = np.zeros(p)\n",
    "        for j in range(p):\n",
    "            eta[j] = lamb - 0.5*tau *(mu[j]**2 + sigma[j,j])*np.linalg.norm(X[:,j])**2 + tau *X[:,j].T.dot(y*mu[j]-np.delete(X, j, axis=1).dot(np.diag(np.delete(wstar,j))).dot(np.delete(mu,j,0)*mu[j] + np.delete(sigma,j,axis=1)[j,:]))\n",
    "            wstar[j] = expit(eta[j]) \n",
    "        w = wstar\n",
    "        #print(np.array(eta).round(2))\n",
    "        #print(np.array(wstar).round(2))\n",
    "    \n",
    "    rmse = (y - X.dot(np.diag(w)).dot(mu)).dot(y - X.dot(np.diag(w)).dot(mu))\n",
    "    return(mu,sigma,w,rmse)"
   ]
  },
  {
   "cell_type": "code",
   "execution_count": 138,
   "metadata": {},
   "outputs": [
    {
     "name": "stderr",
     "output_type": "stream",
     "text": [
      "C:\\ProgramData\\Anaconda3\\lib\\site-packages\\ipykernel_launcher.py:8: RuntimeWarning: divide by zero encountered in log\n",
      "  \n",
      "C:\\ProgramData\\Anaconda3\\lib\\site-packages\\ipykernel_launcher.py:8: RuntimeWarning: divide by zero encountered in double_scalars\n",
      "  \n"
     ]
    },
    {
     "name": "stdout",
     "output_type": "stream",
     "text": [
      "Wall time: 1min 25s\n"
     ]
    }
   ],
   "source": [
    "%%time\n",
    "lst = []\n",
    "for j in np.linspace(0,1,101):\n",
    "    ms1,cs1,ws1,like1 = vselect_flat_rho(d_x2,y,rho = j)\n",
    "    lst.append([j,like1])"
   ]
  },
  {
   "cell_type": "code",
   "execution_count": 139,
   "metadata": {},
   "outputs": [],
   "source": [
    "df = pd.DataFrame(lst)\n",
    "df.columns = ['rho', 'like']\n",
    "df.like = 1-(df.like/(df.like[0]))"
   ]
  },
  {
   "cell_type": "code",
   "execution_count": 140,
   "metadata": {},
   "outputs": [
    {
     "data": {
      "image/png": "[encoded data removed]",
      "text/plain": [
       "<Figure size 432x288 with 1 Axes>"
      ]
     },
     "metadata": {
      "needs_background": "light"
     },
     "output_type": "display_data"
    }
   ],
   "source": [
    "plt.title('Empirical Bayes likelihood y given rho')\n",
    "plt.xlabel('rho')\n",
    "plt.plot(df.rho,df.like)\n",
    "plt.show()"
   ]
  },
  {
   "cell_type": "code",
   "execution_count": 16,
   "metadata": {},
   "outputs": [
    {
     "data": {
      "text/plain": [
       "'ms1,cs1,ws1 = vselect_flat_rho(d_x1,y)\\nms2,cs2,ws2 = vselect_flat_rho(d_x2,y)\\nms3,cs3,ws3 = vselect_flat_rho(d_x3,y)\\nms4,cs4,ws4 = vselect_flat_rho(d_x4,y)'"
      ]
     },
     "execution_count": 16,
     "metadata": {},
     "output_type": "execute_result"
    }
   ],
   "source": [
    "plt'''ms1,cs1,ws1 = vselect_flat_rho(d_x1,y)\n",
    "ms2,cs2,ws2 = vselect_flat_rho(d_x2,y)\n",
    "ms3,cs3,ws3 = vselect_flat_rho(d_x3,y)\n",
    "ms4,cs4,ws4 = vselect_flat_rho(d_x4,y)'''"
   ]
  },
  {
   "cell_type": "code",
   "execution_count": 17,
   "metadata": {},
   "outputs": [
    {
     "data": {
      "text/plain": [
       "\"grid_x = np.linspace(0,1,1000)\\ny1 = f1(grid_x)- f1(grid_x).mean()\\ny2 = f2(grid_x)- f2(grid_x).mean()\\ny3 = f3(grid_x)- f3(grid_x).mean()\\ny4 = f4(grid_x)- f4(grid_x).mean()\\n\\nplt.figure(figsize=(10,5))\\n\\n\\nplt.subplot(221)\\n#plt.ylim(-1.4)\\nplt.title('f1')\\ncil95s(ms1,cs1,ws1,x1,d_x1,y1)\\n\\nplt.subplot(222)\\nplt.title('f2')\\ncil95s(ms2,cs2,ws2,x2,d_x2,y2)\\n\\nplt.subplot(223)\\nplt.title('f3')\\ncil95s(ms3,cs3,ws3,x3,d_x3,y3)\\n\\nplt.subplot(224)\\nplt.title('f4')\\ncil95s(ms4,cs4,ws4,x4,d_x4,y4)\\n\\n\\nplt.show()\""
      ]
     },
     "execution_count": 17,
     "metadata": {},
     "output_type": "execute_result"
    }
   ],
   "source": [
    "'''grid_x = np.linspace(0,1,1000)\n",
    "y1 = f1(grid_x)- f1(grid_x).mean()\n",
    "y2 = f2(grid_x)- f2(grid_x).mean()\n",
    "y3 = f3(grid_x)- f3(grid_x).mean()\n",
    "y4 = f4(grid_x)- f4(grid_x).mean()\n",
    "\n",
    "plt.figure(figsize=(10,5))\n",
    "\n",
    "\n",
    "plt.subplot(221)\n",
    "#plt.ylim(-1.4)\n",
    "plt.title('f1')\n",
    "cil95s(ms1,cs1,ws1,x1,d_x1,y1)\n",
    "\n",
    "plt.subplot(222)\n",
    "plt.title('f2')\n",
    "cil95s(ms2,cs2,ws2,x2,d_x2,y2)\n",
    "\n",
    "plt.subplot(223)\n",
    "plt.title('f3')\n",
    "cil95s(ms3,cs3,ws3,x3,d_x3,y3)\n",
    "\n",
    "plt.subplot(224)\n",
    "plt.title('f4')\n",
    "cil95s(ms4,cs4,ws4,x4,d_x4,y4)\n",
    "\n",
    "\n",
    "plt.show()'''"
   ]
  },
  {
   "cell_type": "markdown",
   "metadata": {},
   "source": [
    "## beta prior $\\rho$"
   ]
  },
  {
   "cell_type": "code",
   "execution_count": 112,
   "metadata": {},
   "outputs": [],
   "source": [
    "def vselect_beta_rho(X,y,p_alpha,p_beta,maxiter=1000):#,rho = 0.46):\n",
    "    #rho = 0.5\n",
    "    beta_a , beta_b = p_alpha,p_beta\n",
    "    beta_a_o , beta_b_o = p_alpha,p_beta\n",
    "    N,p = X.shape\n",
    "    sigmab = 1\n",
    "    A = 10**(-7)\n",
    "    B = 10**(-7)\n",
    "    tau = 1\n",
    "    w = np.repeat(0.5,p)\n",
    "    #lamb= np.log(rho/(1-rho))\n",
    "    t = 0\n",
    "    for iteration in range(maxiter):\n",
    "        lamb= digamma(beta_a) - digamma(beta_b)\n",
    "        test= False\n",
    "        W = np.diag(w)\n",
    "        omega = product(w) + W.dot(np.eye(p)-W)\n",
    "        sigma = np.linalg.inv(tau*np.multiply(X.T.dot(X),omega)+ (1/sigmab) * np.eye(p))\n",
    "        mu = tau*sigma.dot(W.dot(X.T.dot(y)))\n",
    "\n",
    "        s = B + 0.5*(np.linalg.norm(y)**2 -2*y.T.dot(X).dot(W).dot(mu) + np.trace(np.multiply(X.T.dot(X),omega).dot(product(mu) +sigma)))\n",
    "        tau = (A+N/2)/s\n",
    "\n",
    "        wstar = w.copy()\n",
    "        eta = np.zeros(p)\n",
    "        for j in range(p):\n",
    "            eta[j] = digamma(beta_a)-digamma(beta_b) - 0.5*tau *(mu[j]**2 + sigma[j,j])*np.linalg.norm(X[:,j])**2 + tau *X[:,j].T.dot(y*mu[j]-np.delete(X, j, axis=1).dot(np.diag(np.delete(wstar,j))).dot(np.delete(mu,j,0)*mu[j] + np.delete(sigma,j,axis=1)[j,:]))\n",
    "            wstar[j] = expit(eta[j]) \n",
    "        w = wstar\n",
    "        beta_a = sum(w) + beta_a_o\n",
    "        beta_b = p - sum(w) +beta_b_o\n",
    "    #print(beta_a,beta_b)\n",
    "    print(beta_a , beta_b)\n",
    "    return(mu,sigma,w)"
   ]
  },
  {
   "cell_type": "markdown",
   "metadata": {},
   "source": [
    "## comparison"
   ]
  },
  {
   "cell_type": "code",
   "execution_count": 113,
   "metadata": {},
   "outputs": [],
   "source": [
    "grid_x = np.linspace(0,1,1000)\n",
    "y1 = f1(grid_x)- f1(grid_x).mean()\n",
    "y2 = f2(grid_x)- f2(grid_x).mean()\n",
    "y3 = f3(grid_x)- f3(grid_x).mean()\n",
    "y4 = f4(grid_x)- f4(grid_x).mean()"
   ]
  },
  {
   "cell_type": "code",
   "execution_count": 118,
   "metadata": {},
   "outputs": [],
   "source": [
    "def plot(d_x1,x1,y1):\n",
    "\n",
    "    p_alpha,p_beta = 1,1\n",
    "\n",
    "    ms1,cs1,ws1 = vselect_beta_rho(d_x1,y,p_alpha=p_alpha,p_beta=p_beta)\n",
    "    p_alpha,p_beta = 1,10\n",
    "    ms2,cs2,ws2 = vselect_beta_rho(d_x1,y,p_alpha=p_alpha,p_beta=p_beta)\n",
    "    p_alpha,p_beta = 10,1\n",
    "    ms3,cs3,ws3 = vselect_beta_rho(d_x1,y,p_alpha=p_alpha,p_beta=p_beta)\n",
    "    p_alpha,p_beta = 10,10\n",
    "    ms4,cs4,ws4 = vselect_beta_rho(d_x1,y,p_alpha=p_alpha,p_beta=p_beta)\n",
    "\n",
    "    plt.figure(figsize=(15,7))\n",
    "\n",
    "    plt.subplot(2,4,1)\n",
    "    plt.title('~Beta(1,1)')\n",
    "    plt.bar(x =np.linspace(0,1,len(ws1)),height= ws1,width= 0.01,color='k')\n",
    "\n",
    "    plt.subplot(2,4,2)\n",
    "    plt.title('~Beta(1,10)')\n",
    "    plt.bar(x =np.linspace(0,1,len(ws2)),height= ws2,width= 0.01,color='k')\n",
    "\n",
    "    plt.subplot(2,4,3)\n",
    "    plt.title('~Beta(10,1)')\n",
    "    plt.bar(x =np.linspace(0,1,len(ws3)),height= ws3,width= 0.01,color='k')\n",
    "\n",
    "    plt.subplot(2,4,4)\n",
    "    plt.title('~Beta(10,10)')\n",
    "    plt.bar(x =np.linspace(0,1,len(ws4)),height= ws4,width= 0.01,color='k')\n",
    "\n",
    "\n",
    "    plt.subplot(2,4,5)\n",
    "    #plt.title('f1')\n",
    "    cil95s(ms1,cs1,ws1,x1,d_x1,y1)\n",
    "\n",
    "    plt.subplot(2,4,6)\n",
    "    #plt.title('f2')\n",
    "    cil95s(ms2,cs2,ws2,x1,d_x1,y1)\n",
    "\n",
    "    plt.subplot(2,4,7)\n",
    "    #plt.title('f3')\n",
    "    cil95s(ms3,cs3,ws3,x1,d_x1,y1)\n",
    "\n",
    "    plt.subplot(2,4,8)\n",
    "    #plt.title('f4')\n",
    "    cil95s(ms4,cs4,ws4,x1,d_x1,y1)\n",
    "\n",
    "    plt.show()"
   ]
  },
  {
   "cell_type": "code",
   "execution_count": 119,
   "metadata": {},
   "outputs": [
    {
     "name": "stdout",
     "output_type": "stream",
     "text": [
      "31.0 1.0\n",
      "3.0 38.0\n",
      "40.0 1.0\n",
      "40.0 10.0\n"
     ]
    },
    {
     "data": {
      "image/png": "[encoded data removed]",
      "text/plain": [
       "<Figure size 1080x504 with 8 Axes>"
      ]
     },
     "metadata": {
      "needs_background": "light"
     },
     "output_type": "display_data"
    }
   ],
   "source": [
    "plot(d_x3,x3,y3)"
   ]
  },
  {
   "cell_type": "code",
   "execution_count": null,
   "metadata": {},
   "outputs": [],
   "source": [
    "plt.figure(figsize=(15,7))\n",
    "\n",
    "plt.subplot(2,4,1)\n",
    "plt.title('~Beta(1,1)')\n",
    "plt.bar(x =np.linspace(0,1,len(ws1)),height= ws1,width= 0.01,color='k')\n",
    "\n",
    "plt.subplot(2,4,2)\n",
    "plt.title('~Beta(1,10)')\n",
    "plt.bar(x =np.linspace(0,1,len(ws2)),height= ws2,width= 0.01,color='k')\n",
    "\n",
    "plt.subplot(2,4,3)\n",
    "plt.title('~Beta(10,1)')\n",
    "plt.bar(x =np.linspace(0,1,len(ws3)),height= ws3,width= 0.01,color='k')\n",
    "\n",
    "plt.subplot(2,4,4)\n",
    "plt.title('~Beta(10,10)')\n",
    "plt.bar(x =np.linspace(0,1,len(ws4)),height= ws4,width= 0.01,color='k')\n",
    "\n",
    "\n",
    "plt.subplot(2,4,5)\n",
    "#plt.title('f1')\n",
    "cil95s(ms1,cs1,ws1,x1,d_x1,y1)\n",
    "\n",
    "plt.subplot(2,4,6)\n",
    "#plt.title('f2')\n",
    "cil95s(ms2,cs2,ws2,x1,d_x1,y1)\n",
    "\n",
    "plt.subplot(2,4,7)\n",
    "#plt.title('f3')\n",
    "cil95s(ms3,cs3,ws3,x1,d_x1,y1)\n",
    "\n",
    "plt.subplot(2,4,8)\n",
    "#plt.title('f4')\n",
    "cil95s(ms4,cs4,ws4,x1,d_x1,y1)\n",
    "\n",
    "plt.show()"
   ]
  },
  {
   "cell_type": "code",
   "execution_count": 21,
   "metadata": {},
   "outputs": [
    {
     "name": "stdout",
     "output_type": "stream",
     "text": [
      "19.0 15.0\n",
      "27.0 7.0\n",
      "32.0 2.0\n",
      "2.0 32.0\n"
     ]
    },
    {
     "ename": "NameError",
     "evalue": "name 'ddplt' is not defined",
     "output_type": "error",
     "traceback": [
      "\u001b[0;31m---------------------------------------------------------------------------\u001b[0m",
      "\u001b[0;31mNameError\u001b[0m                                 Traceback (most recent call last)",
      "\u001b[0;32m<ipython-input-21-348b311a6c33>\u001b[0m in \u001b[0;36m<module>\u001b[0;34m()\u001b[0m\n\u001b[1;32m      9\u001b[0m \u001b[0;34m\u001b[0m\u001b[0m\n\u001b[1;32m     10\u001b[0m \u001b[0mplt\u001b[0m\u001b[0;34m.\u001b[0m\u001b[0msubplot\u001b[0m\u001b[0;34m(\u001b[0m\u001b[0;36m2\u001b[0m\u001b[0;34m,\u001b[0m\u001b[0;36m4\u001b[0m\u001b[0;34m,\u001b[0m\u001b[0;36m1\u001b[0m\u001b[0;34m)\u001b[0m\u001b[0;34m\u001b[0m\u001b[0m\n\u001b[0;32m---> 11\u001b[0;31m \u001b[0mddplt\u001b[0m\u001b[0;34m.\u001b[0m\u001b[0mbar\u001b[0m\u001b[0;34m(\u001b[0m\u001b[0mx\u001b[0m \u001b[0;34m=\u001b[0m\u001b[0mnp\u001b[0m\u001b[0;34m.\u001b[0m\u001b[0mlinspace\u001b[0m\u001b[0;34m(\u001b[0m\u001b[0;36m0\u001b[0m\u001b[0;34m,\u001b[0m\u001b[0;36m1\u001b[0m\u001b[0;34m,\u001b[0m\u001b[0mlen\u001b[0m\u001b[0;34m(\u001b[0m\u001b[0mws1\u001b[0m\u001b[0;34m)\u001b[0m\u001b[0;34m)\u001b[0m\u001b[0;34m,\u001b[0m\u001b[0mheight\u001b[0m\u001b[0;34m=\u001b[0m \u001b[0mws1\u001b[0m\u001b[0;34m,\u001b[0m\u001b[0mwidth\u001b[0m\u001b[0;34m=\u001b[0m \u001b[0;36m0.01\u001b[0m\u001b[0;34m,\u001b[0m\u001b[0mcolor\u001b[0m\u001b[0;34m=\u001b[0m\u001b[0;34m'k'\u001b[0m\u001b[0;34m)\u001b[0m\u001b[0;34m\u001b[0m\u001b[0m\n\u001b[0m\u001b[1;32m     12\u001b[0m \u001b[0;34m\u001b[0m\u001b[0m\n\u001b[1;32m     13\u001b[0m \u001b[0mplt\u001b[0m\u001b[0;34m.\u001b[0m\u001b[0msubplot\u001b[0m\u001b[0;34m(\u001b[0m\u001b[0;36m2\u001b[0m\u001b[0;34m,\u001b[0m\u001b[0;36m4\u001b[0m\u001b[0;34m,\u001b[0m\u001b[0;36m2\u001b[0m\u001b[0;34m)\u001b[0m\u001b[0;34m\u001b[0m\u001b[0m\n",
      "\u001b[0;31mNameError\u001b[0m: name 'ddplt' is not defined"
     ]
    }
   ],
   "source": [
    "p_alpha,p_beta = 2,2\n",
    "\n",
    "ms1,cs1,ws1 = vselect_beta_rho(d_x1,y,p_alpha=p_alpha,p_beta=p_beta)\n",
    "ms2,cs2,ws2 = vselect_beta_rho(d_x2,y,p_alpha=p_alpha,p_beta=p_beta)\n",
    "ms3,cs3,ws3 = vselect_beta_rho(d_x3,y,p_alpha=p_alpha,p_beta=p_beta)\n",
    "ms4,cs4,ws4 = vselect_beta_rho(d_x4,y,p_alpha=p_alpha,p_beta=p_beta)\n",
    "\n",
    "plt.figure(figsize=(15,7))\n",
    "\n",
    "plt.subplot(2,4,1)\n",
    "ddplt.bar(x =np.linspace(0,1,len(ws1)),height= ws1,width= 0.01,color='k')\n",
    "\n",
    "plt.subplot(2,4,2)\n",
    "plt.bar(x =np.linspace(0,1,len(ws2)),height= ws2,width= 0.01,color='k')\n",
    "\n",
    "plt.subplot(2,4,3)\n",
    "plt.bar(x =np.linspace(0,1,len(ws3)),height= ws3,width= 0.01,color='k')\n",
    "\n",
    "plt.subplot(2,4,4)\n",
    "plt.bar(x =np.linspace(0,1,len(ws4)),height= ws4,width= 0.01,color='k')\n",
    "\n",
    "\n",
    "plt.subplot(2,4,5)\n",
    "#plt.title('f1')\n",
    "cil95s(ms1,cs1,ws1,x1,d_x1,y1)\n",
    "\n",
    "plt.subplot(2,4,6)\n",
    "#plt.title('f2')\n",
    "cil95s(ms2,cs2,ws2,x2,d_x2,y2)\n",
    "\n",
    "plt.subplot(2,4,7)\n",
    "#plt.title('f3')\n",
    "cil95s(ms3,cs3,ws3,x3,d_x3,y3)\n",
    "\n",
    "plt.subplot(2,4,8)\n",
    "#plt.title('f4')\n",
    "cil95s(ms4,cs4,ws4,x4,d_x4,y4)\n",
    "\n"
   ]
  },
  {
   "cell_type": "code",
   "execution_count": null,
   "metadata": {
    "collapsed": true
   },
   "outputs": [],
   "source": []
  }
 ],
 "metadata": {
  "kernelspec": {
   "display_name": "Python 3",
   "language": "python",
   "name": "python3"
  },
  "language_info": {
   "codemirror_mode": {
    "name": "ipython",
    "version": 3
   },
   "file_extension": ".py",
   "mimetype": "text/x-python",
   "name": "python",
   "nbconvert_exporter": "python",
   "pygments_lexer": "ipython3",
   "version": "3.7.3"
  }
 },
 "nbformat": 4,
 "nbformat_minor": 2
}
