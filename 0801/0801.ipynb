{
 "cells": [
  {
   "cell_type": "code",
   "execution_count": 105,
   "metadata": {},
   "outputs": [],
   "source": [
    "import numpy as np\n",
    "import pandas as pd\n",
    "from scipy.special import digamma\n",
    "from scipy.special import expit"
   ]
  },
  {
   "cell_type": "markdown",
   "metadata": {},
   "source": [
    "$$\n",
    "\\begin{align*}\n",
    "Y - \\bar{y}1_n &= b^*(X)\\gamma + Z^*\\beta + \\epsilon\\\\\n",
    "\\tilde{Y} &= b^*(X)\\gamma + Z^*\\beta + \\epsilon\\\\\n",
    "\\tilde{Y} &= W\\Theta + \\epsilon\n",
    "\\end{align*}\n",
    "$$\n",
    "Where\n",
    "$$\n",
    "\\Theta = \\{\\gamma' , \\beta'\\}'=\\{\\theta_{11},\\dots,\\theta_{Gm_G}\\}'\\\\\n",
    "W = \\{b^*(X),Z^*\\} =\\{W_{11}, \\dots W_{Gm_G}\\}\\\\\n",
    "\\epsilon \\sim N(0,\\sigma^2)\\\\\n",
    "$$"
   ]
  },
  {
   "cell_type": "markdown",
   "metadata": {},
   "source": [
    "## Prior\n",
    "$$\n",
    "\\begin{align*}\n",
    "\\tilde{Y} | W,\\Theta &\\sim N(W\\Gamma\\Theta,\\sigma^2I)\\\\\n",
    "\\gamma_{gj} &\\sim bernoulli(\\pi_g)\\\\\n",
    "\\theta_{gj}|v_{gj}^2 &\\sim^{ind}N(0,v_{gj}^2),\\;\\;\\; g= 1\\dots,G\\;\\;, j=1,\\dots,m_g\\\\\n",
    "v_{gj}^2&\\sim^{iid} Inverse-Gamma(a_v,b_v)\\\\\n",
    "\\pi_g &\\sim^{ind}Beta(a_{\\pi_g},b_{\\pi_g})\\\\\n",
    "\\sigma^2 &\\sim Inverse-Gamma(a,b), \\;\\; a=0,\\; b=1\n",
    "\\end{align*}\n",
    "$$"
   ]
  },
  {
   "cell_type": "markdown",
   "metadata": {},
   "source": [
    "## Posterior\n",
    "$$\n",
    "\\begin{align*}\n",
    "p(\\Theta,V,\\Gamma,\\pi,\\sigma^2|\\tilde{Y}) \\propto& p(\\tilde{Y}|\\Theta,\\Gamma,\\sigma^2) \\prod_{g=1}^G\\prod_{j=1}^{m_g}p(\\theta_{gj}|v_{gj}^2) \\prod_{g=1}^G\\prod_{j=1}^{m_g} p(\\gamma_{gj}|\\pi_g)\\\\\n",
    "&\\prod_{g=1}^G\\prod_{j=1}^{m_g} p(v_{gj}^2 ) \\prod_{g=1}^G p(\\pi_g)  p(\\sigma^2)\\\\\n",
    "\\propto&(\\sigma^2)^{-n/2}\\prod_{g=1}^G\\prod_{j=1}^{m_g} exp\\left(-\\frac{\\theta_{gj}^2\\gamma_{gj}}{2\\sigma^2}W_{gj}'W_{gj}+\\frac{\\theta_{gj}\\gamma_{gj}}{\\sigma^2}W_{gj}'(\\tilde{Y}-W_{-gj}\\Gamma_{-gj}\\Theta_{-gj})\\right)\\\\\n",
    "&\\prod_{g=1}^G\\prod_{j=1}^{m_g}\\left[(v_{gj}^2)^{-1/2}exp\\left(-\\frac{1}{2v_{gj}^2}\\theta_{gj}^2\\right)\\right]\\\\\n",
    "&\\prod_{g=1}^G\\prod_{j=1}^{m_g} (\\pi_g)^{\\gamma_{gj}}  (1-\\pi_g)^{1-\\gamma_{gj}}\\\\\n",
    "&\\prod_{g=1}^G\\prod_{j=1}^{m_g} (v_{gj}^2)^{-a_v-1}exp(-\\frac{b_v}{v_{gj}^2})\\\\\n",
    "&\\prod_{g=1}^G (\\pi_g)^{a_{\\pi_g}-1} (1-\\pi_g)^{b_{\\pi_g}-1}\\\\\n",
    "&(\\sigma^2)^{-1}exp(-\\frac{1}{\\sigma^2})\n",
    "\\end{align*}\n",
    "$$"
   ]
  },
  {
   "cell_type": "markdown",
   "metadata": {},
   "source": [
    "## MFVB\n",
    "$$\n",
    "\\begin{align*}\n",
    "p(\\Theta,V,\\lambda^2,\\pi,\\sigma^2|\\tilde{Y}) &\\approx q(\\Theta,V,\\lambda^2,\\pi,\\sigma^2)\\\\\n",
    "&=\\prod_{g=1}^G\\prod_{j=1}^{m_g}q_1(\\theta_{gj})\\prod_{g=1}^G\\prod_{j=1}^{m_g}q_2(v_{gj})\\prod_{g=1}^G\\prod_{j=1}^{m_g}p_3(\\gamma_{gj})\\prod_{g=1}^G q_4(\\pi_g)q_5(\\sigma^2)\n",
    "\\end{align*}\n",
    "$$"
   ]
  },
  {
   "cell_type": "markdown",
   "metadata": {},
   "source": [
    "### Variational Distribution of $\\Theta$\n",
    "$$\n",
    "\\begin{align*}\n",
    "q^*(\\Theta) \\sim N(\\mu,\\Sigma)\n",
    "\\end{align*}\n",
    "$$\n",
    "where\n",
    "$$\n",
    "\\Sigma = \\left(\\left<\\frac{1}{\\sigma^2}\\right>(W'W)\\odot\\Omega +\\left<V\\right>\\right)^{-1}\\\\\n",
    "\\mu =\\left<\\frac{1}{\\sigma^2}\\right> \\Sigma \\left<\\Gamma\\right>W'\\tilde{Y}\\\\\n",
    "\\Omega = \\left<\\gamma\\right>\\left<\\gamma\\right>' + \\left<\\Gamma\\right>\\odot(1-\\left<\\Gamma\\right>)\n",
    "$$"
   ]
  },
  {
   "cell_type": "markdown",
   "metadata": {},
   "source": [
    "### Variational Distribution of $v_{gj}^2$\n",
    "$$\n",
    "\\begin{align*}\n",
    "q^*(v_{gj}^2) \\propto& Inverse-Gamma(a_v + 1/2,b_v + \\left<\\theta_{gj}^2\\right>/2)\n",
    "\\end{align*}\n",
    "$$\n",
    "\n",
    "$$\n",
    "\\left<\\theta_{gj}^2\\right> = \\mu_{gj}^2 + \\Sigma_{gj,gj}\n",
    "$$"
   ]
  },
  {
   "cell_type": "markdown",
   "metadata": {},
   "source": [
    "### Variational Distribution of $\\gamma_{gj}$\n",
    "$$\n",
    "\\begin{align*}\n",
    "q^*(\\gamma_{gj}) &\\sim Bern(\\rho_{gj})\\\\\n",
    "\\rho_{gj} &= expit(\\eta_{gj})\\\\\n",
    "\\eta_{gj} &= \\left<logit(\\pi_g)\\right> - \\frac{1}{2}\\left<\\frac{1}{\\sigma^2}\\right>W_{gj}'W_{gj}(\\mu_{gj}^2 + \\Sigma_{gj,gj}) + \\left<\\frac{1}{\\sigma^2}\\right> W_{gj}'[\\tilde{Y}\\mu_j - W_{-gj}<\\Gamma_{-gj}>(\\mu_{-gj}\\mu_{gj}+\\Sigma_{-gj,gj})]\n",
    "\\end{align*}\n",
    "$$"
   ]
  },
  {
   "cell_type": "markdown",
   "metadata": {},
   "source": [
    "### Variational Distribution of $\\pi_g$\n",
    "$$\n",
    "\\begin{align*}\n",
    "q^*(\\pi_g) \\propto& E_{-pi_g}\\left[p(\\Theta,V,\\lambda^2,\\pi,\\sigma^2|\\tilde{Y})\\right] \\\\\n",
    "\\sim&Beta(a_{\\pi_g} + \\sum_{j=1}^{m_g}<\\gamma_{gj}>) , b_{\\pi_g} + m_g - \\sum_{j=1}^{m_g}<\\gamma_{gj}>))\n",
    "\\end{align*}\n",
    "$$"
   ]
  },
  {
   "cell_type": "markdown",
   "metadata": {},
   "source": [
    "### Variational Distribution of $\\sigma^2$\n",
    "$$\n",
    "\\begin{align*}\n",
    "q^*(\\sigma^2) \\sim&IG\\left(\\frac{n}{2}, 1 + \\frac{1}{2}[\\tilde{Y}'\\tilde{Y} - 2\\tilde{Y}'W<\\Gamma>\\mu + tr((W'W\\odot\\Omega)(\\mu\\mu'+\\Sigma))]\\right)\n",
    "\\end{align*}\n",
    "$$"
   ]
  },
  {
   "cell_type": "markdown",
   "metadata": {},
   "source": [
    "# Simulation when G=1"
   ]
  },
  {
   "cell_type": "code",
   "execution_count": 3,
   "metadata": {},
   "outputs": [],
   "source": [
    "def defineKnot(X,K=14):\n",
    "    upper = max(X)\n",
    "    lower = min(X)\n",
    "    out = np.linspace(start=lower,stop=upper,num=K+2)[1:K+1]\n",
    "    return(out)"
   ]
  },
  {
   "cell_type": "code",
   "execution_count": 4,
   "metadata": {},
   "outputs": [],
   "source": [
    "def b(u,tau,sd):\n",
    "    lst = []\n",
    "    #lst.append(np.ones(len(u)))\n",
    "    #lst.append(u)\n",
    "    for i in tau:\n",
    "        lst.append(abs((u-i)/sd)**3)\n",
    "    out = np.array(lst)\n",
    "    return(out)"
   ]
  },
  {
   "cell_type": "code",
   "execution_count": 5,
   "metadata": {},
   "outputs": [],
   "source": [
    "def f(x):\n",
    "    #out = np.sin(2*np.pi*x)\n",
    "    out =3*np.exp(-200*(x-0.2)**2) + np.exp(-50*(x-0.7)**2)\n",
    "    return(out)\n",
    "lim = (-0.5,3.5)"
   ]
  },
  {
   "cell_type": "code",
   "execution_count": 6,
   "metadata": {},
   "outputs": [],
   "source": [
    "def mkToy(n=800,tau = 0.5):\n",
    "    np.random.seed(4428)\n",
    "    x = np.random.uniform(size = n)\n",
    "    e = np.random.normal(0,np.sqrt(0.5), size= n)\n",
    "    y = f(x) + e\n",
    "    #out = np.column_stack([x,y])\n",
    "    return(x,y)"
   ]
  },
  {
   "cell_type": "code",
   "execution_count": 7,
   "metadata": {},
   "outputs": [],
   "source": [
    "x,y = mkToy()\n",
    "y= y-y.mean()"
   ]
  },
  {
   "cell_type": "code",
   "execution_count": 8,
   "metadata": {},
   "outputs": [],
   "source": [
    "sd = np.std(x)\n",
    "knot = defineKnot(x)\n",
    "d_x = b(x,knot,sd).T"
   ]
  },
  {
   "cell_type": "code",
   "execution_count": 9,
   "metadata": {},
   "outputs": [],
   "source": [
    "W,Y = d_x, y"
   ]
  },
  {
   "cell_type": "code",
   "execution_count": 10,
   "metadata": {},
   "outputs": [],
   "source": [
    "def product(a):\n",
    "    n = len(a)\n",
    "    out = np.zeros([n,n])\n",
    "    for i in range(n):\n",
    "        for j in range(n):\n",
    "            out[i,j] = a[i]*a[j]\n",
    "    return(out)"
   ]
  },
  {
   "cell_type": "code",
   "execution_count": 148,
   "metadata": {},
   "outputs": [],
   "source": [
    "n = 100\n",
    "x1 = np.random.uniform(size = n)\n",
    "x2 = np.random.uniform(size = n)\n",
    "x3 = np.random.uniform(size = n)\n",
    "x4 = np.random.uniform(size = n)\n",
    "x5 = np.random.uniform(size = n)\n",
    "x6 = np.random.uniform(size = n)\n",
    "\n",
    "X = np.array([x1,x2,x3,x4,x5,x6]).T\n",
    "Beta_true = np.array([0.02,0.03,0.4,1,0,0])\n",
    "y = X.dot(Beta_true) + np.random.normal(size=n)\n",
    "N,p = X.shape\n",
    "W = X\n",
    "Y = y - y.mean()"
   ]
  },
  {
   "cell_type": "code",
   "execution_count": 149,
   "metadata": {},
   "outputs": [],
   "source": [
    "av,bv = 1,1\n",
    "api,bpi = 1,1\n",
    "a,b = 0,1\n",
    "pi_g = 0.7"
   ]
  },
  {
   "cell_type": "code",
   "execution_count": 150,
   "metadata": {},
   "outputs": [],
   "source": [
    "n,p = W.shape\n",
    "ex_sinv = 1\n",
    "ex_Gam = pi_g*np.eye(p)\n",
    "ex_gam = np.repeat(pi_g,p)\n",
    "ex_v = np.ones(p)\n",
    "ex_v_inv = np.ones(p)\n",
    "eta = np.zeros(p)"
   ]
  },
  {
   "cell_type": "code",
   "execution_count": 151,
   "metadata": {
    "scrolled": true
   },
   "outputs": [],
   "source": [
    "#iter\n",
    "for iteration in range(100):\n",
    "    #theta\n",
    "    Omega = product(ex_gam) + np.multiply(ex_Gam, np.eye(p) - ex_Gam)\n",
    "    Sigma = np.linalg.inv(np.multiply((ex_sinv*W.T.dot(W)),Omega) + np.diag(ex_v)*np.eye(p))\n",
    "    mu = ex_sinv*Sigma.dot(ex_Gam).dot(W.T).dot(Y)\n",
    "\n",
    "    #v\n",
    "    for j in range(p):\n",
    "        ex_v[j] = (bv + (mu[j]**2 + Sigma[j,j])/2 )/(av-1/2)\n",
    "        ex_v_inv[j] = (av + 1/2)*(bv + (mu[j]**2 + Sigma[j,j])/2 )\n",
    "    #pi\n",
    "    alpi = api + sum(ex_gam)\n",
    "    bepi = bpi + p - sum(ex_gam)\n",
    "    ex_logit_pi = digamma(alpi) - digamma(bepi) \n",
    "    #sigma\n",
    "    ex_sinv = n/2 * (1+ 0.5*(Y.dot(Y)-2*Y.T.dot(W).dot(ex_Gam).dot(mu)+np.trace(np.multiply(W.T.dot(W),Omega).dot(product(mu)+Sigma))))\n",
    "    #gamma\n",
    "    for j in range(p):\n",
    "        se = 0.5*ex_sinv *(mu[j]**2 + Sigma[j,j])*np.linalg.norm(W[:,j])**2\n",
    "        th = ex_sinv *W[:,j].T.dot(Y*mu[j]-np.delete(W, j, axis=1).dot(np.diag(np.delete(ex_gam,j))).dot(np.delete(mu,j)*mu[j] + np.delete(Sigma,j,axis=1)[j,:]))\n",
    "        eta[j] = ex_logit_pi - se + th\n",
    "\n",
    "        ex_gam[j] = expit(eta[j])\n",
    "  \n",
    "        #print(se)\n",
    "        #print(th)\n",
    "        #print(eta[j])\n",
    "\n",
    "    ex_Gam = np.diag(ex_gam)"
   ]
  },
  {
   "cell_type": "code",
   "execution_count": 152,
   "metadata": {},
   "outputs": [
    {
     "data": {
      "text/plain": [
       "array([ 0.        , -0.54472377,  0.91213863,  0.52584902, -0.36040436,\n",
       "       -0.31724101])"
      ]
     },
     "execution_count": 152,
     "metadata": {},
     "output_type": "execute_result"
    }
   ],
   "source": [
    "mu"
   ]
  },
  {
   "cell_type": "code",
   "execution_count": 68,
   "metadata": {},
   "outputs": [],
   "source": [
    "    Omega = product(ex_gam) + np.multiply(ex_Gam, np.eye(p) - ex_Gam)\n",
    "    Sigma = np.linalg.inv(np.multiply((ex_sinv*W.T.dot(W)),Omega) + np.diag(ex_v)*np.eye(p))\n",
    "    mu = ex_sinv*Sigma.dot(ex_Gam).dot(W.T).dot(Y)\n",
    "\n",
    "    #v\n",
    "    for j in range(p):\n",
    "        ex_v[j] = (bv + (mu[j]**2 + Sigma[j,j])/2 )/(av-1/2)\n",
    "        ex_v_inv[j] = (av + 1/2)*(bv + (mu[j]**2 + Sigma[j,j])/2 )\n",
    "    #pi\n",
    "    alpi = api + sum(ex_gam)\n",
    "    bepi = bpi + p - sum(ex_gam)\n",
    "    ex_logit_pi = digamma(alpi) - digamma(bepi) \n",
    "    #sigma\n",
    "    ex_sinv = n/2 * (1+ 0.5*(Y.dot(Y)-2*Y.T.dot(W).dot(ex_Gam).dot(mu)+np.trace(np.multiply(W.T.dot(W),Omega).dot(product(mu)+Sigma))))\n",
    "    #gamma\n",
    "    "
   ]
  },
  {
   "cell_type": "code",
   "execution_count": null,
   "metadata": {},
   "outputs": [],
   "source": [
    "for j in range(p):\n",
    "        se = 0.5*ex_sinv *(mu[j]**2 + Sigma[j,j])*np.linalg.norm(W[:,j])**2\n",
    "        th = ex_sinv *W[:,j].T.dot(Y*mu[j]-np.delete(W, j, axis=1).dot(np.diag(np.delete(ex_gam,j))).dot(np.delete(mu,j)*mu[j] + np.delete(Sigma,j,axis=1)[j,:]))\n",
    "        eta[j] = ex_logit_pi - se + th\n",
    "        ex_gam[j] = np.exp(eta[j])/(1+np.exp(eta[j]))\n",
    "\n",
    "    ex_Gam = np.diag(ex_gam)"
   ]
  },
  {
   "cell_type": "code",
   "execution_count": 69,
   "metadata": {},
   "outputs": [],
   "source": [
    "j=0"
   ]
  },
  {
   "cell_type": "code",
   "execution_count": 70,
   "metadata": {},
   "outputs": [],
   "source": [
    "se = 0.5*ex_sinv *(mu[j]**2 + Sigma[j,j])*np.linalg.norm(W[:,j])**2"
   ]
  },
  {
   "cell_type": "code",
   "execution_count": 71,
   "metadata": {},
   "outputs": [],
   "source": [
    "th = ex_sinv *W[:,j].T.dot(Y*mu[j]-np.delete(W, j, axis=1).dot(np.diag(np.delete(ex_gam,j))).dot(np.delete(mu,j)*mu[j] + np.delete(Sigma,j,axis=1)[j,:]))"
   ]
  },
  {
   "cell_type": "code",
   "execution_count": 72,
   "metadata": {},
   "outputs": [],
   "source": [
    "eta[j] = ex_logit_pi - se + th"
   ]
  },
  {
   "cell_type": "code",
   "execution_count": 73,
   "metadata": {},
   "outputs": [
    {
     "name": "stderr",
     "output_type": "stream",
     "text": [
      "C:\\Users\\SUIC_STAR\\Anaconda3\\lib\\site-packages\\ipykernel_launcher.py:1: RuntimeWarning: invalid value encountered in double_scalars\n",
      "  \"\"\"Entry point for launching an IPython kernel.\n"
     ]
    }
   ],
   "source": [
    "ex_gam[j] = np.exp(eta[j])/(1+np.exp(eta[j]))"
   ]
  },
  {
   "cell_type": "code",
   "execution_count": 74,
   "metadata": {},
   "outputs": [
    {
     "data": {
      "text/plain": [
       "217174.87704606476"
      ]
     },
     "execution_count": 74,
     "metadata": {},
     "output_type": "execute_result"
    }
   ],
   "source": [
    "eta[0]"
   ]
  },
  {
   "cell_type": "code",
   "execution_count": 75,
   "metadata": {},
   "outputs": [
    {
     "data": {
      "text/plain": [
       "432963.52197294397"
      ]
     },
     "execution_count": 75,
     "metadata": {},
     "output_type": "execute_result"
    }
   ],
   "source": [
    "se"
   ]
  },
  {
   "cell_type": "code",
   "execution_count": 76,
   "metadata": {},
   "outputs": [
    {
     "data": {
      "text/plain": [
       "650137.1368160199"
      ]
     },
     "execution_count": 76,
     "metadata": {},
     "output_type": "execute_result"
    }
   ],
   "source": [
    "th"
   ]
  },
  {
   "cell_type": "code",
   "execution_count": 77,
   "metadata": {},
   "outputs": [
    {
     "data": {
      "text/plain": [
       "1.2622029888248871"
      ]
     },
     "execution_count": 77,
     "metadata": {},
     "output_type": "execute_result"
    }
   ],
   "source": [
    "ex_logit_pi"
   ]
  },
  {
   "cell_type": "code",
   "execution_count": null,
   "metadata": {},
   "outputs": [],
   "source": []
  }
 ],
 "metadata": {
  "kernelspec": {
   "display_name": "Python 3",
   "language": "python",
   "name": "python3"
  },
  "language_info": {
   "codemirror_mode": {
    "name": "ipython",
    "version": 3
   },
   "file_extension": ".py",
   "mimetype": "text/x-python",
   "name": "python",
   "nbconvert_exporter": "python",
   "pygments_lexer": "ipython3",
   "version": "3.6.5"
  }
 },
 "nbformat": 4,
 "nbformat_minor": 2
}
