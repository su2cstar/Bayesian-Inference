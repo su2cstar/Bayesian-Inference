{
 "cells": [
  {
   "cell_type": "markdown",
   "metadata": {},
   "source": [
    "First import required modules"
   ]
  },
  {
   "cell_type": "code",
   "execution_count": 1,
   "metadata": {},
   "outputs": [],
   "source": [
    "import numpy as np\n",
    "import pandas as pd\n",
    "import matplotlib.pyplot as plt\n",
    "import scipy.stats as stats\n",
    "from scipy.special import digamma "
   ]
  },
  {
   "cell_type": "markdown",
   "metadata": {},
   "source": [
    "# Regression Spline\n",
    "Assume that the range of x is $[a,b]$. Let the point\n",
    "$$ a < \\xi_1 < \\dots < \\xi_K < b$$\n",
    "be a partion of the interval $[a,b]$  \n",
    "$\\left\\{ \\xi_1 , \\dots , \\xi_K \\right\\}$ are called knots."
   ]
  },
  {
   "cell_type": "markdown",
   "metadata": {},
   "source": [
    "Then make the function which return the knot points"
   ]
  },
  {
   "cell_type": "code",
   "execution_count": 2,
   "metadata": {},
   "outputs": [],
   "source": [
    "def defineKnot(X,K=10):\n",
    "    upper = max(X)\n",
    "    lower = min(X)\n",
    "    out = np.linspace(start=lower,stop=upper,num=K+2)[1:K+1]\n",
    "    return(out)"
   ]
  },
  {
   "cell_type": "markdown",
   "metadata": {},
   "source": [
    "# Radial Basis Function\n",
    "A RBF $\\varphi$ is a real valued function whose value depends only on the distance from origin.\n",
    "A real function $\\varphi : [0,\\infty) \\rightarrow {\\rm I\\!R}$ with a metric on space $\\| \\cdot \\| : V \\rightarrow [0,\\infty)$ a function $\\varphi_c = \\varphi(\\|\\mathbf{x} - \\mathbf{c}\\|)$ is said to be a radial kernel centered at c. A radial function and the associated radial kernels are said to be radial basis function"
   ]
  },
  {
   "cell_type": "markdown",
   "metadata": {},
   "source": [
    "we use radial basis functions defined by\n",
    "$$\n",
    "\\mathbf{b}(u) = \\left\\{  u, \\left| \\frac{u-\\tau_1}{c} \\right|^3 , \\cdots , \\left| \\frac{u-\\tau_K}{c} \\right|^3 \\right\\}\n",
    "$$\n",
    "where $c$ is sample standard deviation "
   ]
  },
  {
   "cell_type": "markdown",
   "metadata": {},
   "source": [
    "Then we can make the function which retrun the basis"
   ]
  },
  {
   "cell_type": "code",
   "execution_count": 3,
   "metadata": {},
   "outputs": [],
   "source": [
    "def b(u,tau,sd):\n",
    "    lst = []\n",
    "    lst.append(u)\n",
    "    for i in tau:\n",
    "        lst.append(abs((u-i)/sd)**3)\n",
    "    out = np.array(lst)\n",
    "    return(out)"
   ]
  },
  {
   "cell_type": "markdown",
   "metadata": {},
   "source": [
    "Nonparametric linear model can be represented as\n",
    "$$ Y = \\mathbf{b}(X) \\boldsymbol{\\beta} + \\varepsilon$$\n",
    "where $Y \\in  {\\rm I\\!R}^{n\\times1}, X \\in  {\\rm I\\!R}^{n\\times1}$ and $\\varepsilon \\sim N(0,\\tau^{-1})$"
   ]
  },
  {
   "cell_type": "markdown",
   "metadata": {},
   "source": [
    "# Make toy data"
   ]
  },
  {
   "cell_type": "markdown",
   "metadata": {},
   "source": [
    "Let\n",
    "$$y = 3\\exp\\left(-200(x-0.2)^2\\right) + \\exp\\left(-50(x-0.6)^2\\right)$$"
   ]
  },
  {
   "cell_type": "markdown",
   "metadata": {},
   "source": [
    "Plotting true distribution of $Y$ is"
   ]
  },
  {
   "cell_type": "code",
   "execution_count": 4,
   "metadata": {},
   "outputs": [],
   "source": [
    "x = np.linspace(0,1,300)\n",
    "y = 3*np.exp(-200*(x-0.2)**2) + np.exp(-50*(x-0.6)**2)"
   ]
  },
  {
   "cell_type": "code",
   "execution_count": 5,
   "metadata": {},
   "outputs": [
    {
     "data": {
      "image/png": "[encoded data removed]",
      "text/plain": [
       "<Figure size 432x288 with 1 Axes>"
      ]
     },
     "metadata": {},
     "output_type": "display_data"
    }
   ],
   "source": [
    "x = np.linspace(0,1,300)\n",
    "y=f(x)\n",
    "plt.plot(x, y, 'k')\n",
    "plt.ylim(-0.2, 3)\n",
    "plt.show()"
   ]
  },
  {
   "cell_type": "markdown",
   "metadata": {},
   "source": [
    "make the simulation function which make the obs with error $N(0,0.5)$"
   ]
  },
  {
   "cell_type": "code",
   "execution_count": 6,
   "metadata": {},
   "outputs": [],
   "source": [
    "def mkToy(n=300,tau = 0.5):\n",
    "    x = np.random.uniform(size = n)\n",
    "    e = np.random.normal(0,np.sqrt(0.5), size= n)\n",
    "    y = 3*np.exp(-200*(x-0.2)**2) + np.exp(-50*(x-0.6)**2) + e\n",
    "    #out = np.column_stack([x,y])\n",
    "    return(x,y)"
   ]
  },
  {
   "cell_type": "markdown",
   "metadata": {},
   "source": [
    "Plotting the distribution of simulated data\n",
    "$$y = 3\\exp\\left(-200(x-0.2)^2\\right) + \\exp\\left(-50(x-0.6)^2\\right) + \\varepsilon$$\n",
    "where $\\varepsilon \\sim N(0,0.5)$"
   ]
  },
  {
   "cell_type": "code",
   "execution_count": 7,
   "metadata": {},
   "outputs": [],
   "source": [
    "x,y = mkToy()"
   ]
  },
  {
   "cell_type": "code",
   "execution_count": 8,
   "metadata": {},
   "outputs": [
    {
     "data": {
      "image/png": "[encoded data removed]",
      "text/plain": [
       "<Figure size 432x288 with 1 Axes>"
      ]
     },
     "metadata": {},
     "output_type": "display_data"
    }
   ],
   "source": [
    "plt.plot(x,y,'o')\n",
    "plt.ylim(-0.2, 4)\n",
    "plt.show()"
   ]
  },
  {
   "cell_type": "markdown",
   "metadata": {},
   "source": [
    "Calculate the standard deviation of observed data"
   ]
  },
  {
   "cell_type": "code",
   "execution_count": 9,
   "metadata": {},
   "outputs": [
    {
     "name": "stdout",
     "output_type": "stream",
     "text": [
      "0.29923910225377626\n"
     ]
    }
   ],
   "source": [
    "sd = np.std(x)\n",
    "print(sd)"
   ]
  },
  {
   "cell_type": "markdown",
   "metadata": {},
   "source": [
    "Define the knot and design matrix"
   ]
  },
  {
   "cell_type": "code",
   "execution_count": 10,
   "metadata": {},
   "outputs": [],
   "source": [
    "knot = defineKnot(x)\n",
    "d_x = b(x,knot,sd).T"
   ]
  },
  {
   "cell_type": "markdown",
   "metadata": {},
   "source": [
    "plotting the fitted value"
   ]
  },
  {
   "cell_type": "code",
   "execution_count": 11,
   "metadata": {},
   "outputs": [],
   "source": [
    "fitted  = d_x.dot(np.linalg.inv(d_x.T.dot(d_x))).dot(d_x.T).dot(y)"
   ]
  },
  {
   "cell_type": "code",
   "execution_count": 12,
   "metadata": {
    "scrolled": true
   },
   "outputs": [
    {
     "data": {
      "image/png": "[encoded data removed]",
      "text/plain": [
       "<Figure size 432x288 with 1 Axes>"
      ]
     },
     "metadata": {},
     "output_type": "display_data"
    }
   ],
   "source": [
    "plt.plot(x,fitted,'o')\n",
    "plt.ylim(-0.2, 3)\n",
    "plt.show()"
   ]
  },
  {
   "cell_type": "code",
   "execution_count": 13,
   "metadata": {},
   "outputs": [],
   "source": [
    "def mfvb(X,y,max_iter):\n",
    "    N,p = X.shape\n",
    "    a ,b, c, d = [10**(-7)]*4\n",
    "    \n",
    "    a_tilde = np.repeat(a + 0.5, p)\n",
    "    b_tilde = np.repeat(b,p)\n",
    "    c_tilde = c + (N+1)/2\n",
    "    d_tilde = d\n",
    "    \n",
    "    mu_coeffs = np.repeat(0,p)\n",
    "    sigma_coeffs = np.diag(np.repeat(1,p))\n",
    "    \n",
    "\n",
    "    for i in range(max_iter):\n",
    "        expected_coeffs = mu_coeffs\n",
    "        double_expected_coeffs = sigma_coeffs + mu_coeffs.dot(mu_coeffs.T)\n",
    "        diagonal_sigma = np.diag(sigma_coeffs)\n",
    "        expected_alpha = np.array(list(map(lambda x : a_tilde[x]/b_tilde[x] , np.arange(0,p))))\n",
    "        log_expected_alpha = np.array(list(map(lambda x : digamma(a_tilde[x])-np.log(b_tilde[x]) , np.arange(0,p))))\n",
    "        expected_tau = c_tilde / d_tilde\n",
    "        log_expected_tau = digamma(c_tilde)-np.log(d_tilde)\n",
    "        sigma_coeffs = np.linalg.inv(np.diag(expected_alpha)+expected_tau*(X.T.dot(X)))\n",
    "        mu_coeffs =  expected_tau*sigma_coeffs.dot(X.T.dot(y))\n",
    "        b_tilde = np.array(list(map(lambda x : (diagonal_sigma[x]+mu_coeffs[x]**2)/2 + b , np.arange(0,p))))\n",
    "        d_tilde = d+0.5*(y.T.dot(y)) - expected_coeffs.T.dot((X.T.dot(y))+ 0.5*sum(np.diag(X.dot(double_expected_coeffs).dot(X.T))))\n",
    "    return mu_coeffs,sigma_coeffs"
   ]
  },
  {
   "cell_type": "code",
   "execution_count": 19,
   "metadata": {},
   "outputs": [
    {
     "name": "stderr",
     "output_type": "stream",
     "text": [
      "C:\\ProgramData\\Anaconda3\\lib\\site-packages\\ipykernel_launcher.py:21: RuntimeWarning: invalid value encountered in log\n",
      "C:\\ProgramData\\Anaconda3\\lib\\site-packages\\ipykernel_launcher.py:19: RuntimeWarning: invalid value encountered in log\n"
     ]
    },
    {
     "data": {
      "image/png": "[encoded data removed]",
      "text/plain": [
       "<Figure size 432x288 with 1 Axes>"
      ]
     },
     "metadata": {},
     "output_type": "display_data"
    }
   ],
   "source": [
    "m,c = mfvb(d_x,y, max_iter= 1000)\n",
    "plt.plot(x,d_x.dot(m),'o')\n",
    "plt.ylim(-0.2, 3)\n",
    "plt.show()"
   ]
  },
  {
   "cell_type": "code",
   "execution_count": 16,
   "metadata": {},
   "outputs": [
    {
     "name": "stderr",
     "output_type": "stream",
     "text": [
      "C:\\ProgramData\\Anaconda3\\lib\\site-packages\\ipykernel_launcher.py:21: RuntimeWarning: invalid value encountered in log\n",
      "C:\\ProgramData\\Anaconda3\\lib\\site-packages\\ipykernel_launcher.py:19: RuntimeWarning: invalid value encountered in log\n"
     ]
    },
    {
     "data": {
      "image/png": "[encoded data removed]",
      "text/plain": [
       "<Figure size 432x288 with 1 Axes>"
      ]
     },
     "metadata": {},
     "output_type": "display_data"
    }
   ],
   "source": [
    "m,c = mfvb(d_x,y, max_iter= 100000)\n",
    "plt.plot(x,d_x.dot(m),'o')\n",
    "plt.ylim(-0.2, 3)\n",
    "plt.show()"
   ]
  },
  {
   "cell_type": "code",
   "execution_count": null,
   "metadata": {},
   "outputs": [],
   "source": []
  }
 ],
 "metadata": {
  "kernelspec": {
   "display_name": "Python 3",
   "language": "python",
   "name": "python3"
  },
  "language_info": {
   "codemirror_mode": {
    "name": "ipython",
    "version": 3
   },
   "file_extension": ".py",
   "mimetype": "text/x-python",
   "name": "python",
   "nbconvert_exporter": "python",
   "pygments_lexer": "ipython3",
   "version": "3.6.5"
  }
 },
 "nbformat": 4,
 "nbformat_minor": 2
}
