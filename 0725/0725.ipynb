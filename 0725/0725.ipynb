{
 "cells": [
  {
   "cell_type": "code",
   "execution_count": 1,
   "metadata": {},
   "outputs": [],
   "source": [
    "import numpy as np\n",
    "import pandas as pd"
   ]
  },
  {
   "cell_type": "markdown",
   "metadata": {},
   "source": [
    "$$\n",
    "\\begin{align*}\n",
    "Y - \\bar{y}1_n &= b^*(X)\\gamma + Z^*\\beta + \\epsilon\\\\\n",
    "\\tilde{Y} &= b^*(X)\\gamma + Z^*\\beta + \\epsilon\\\\\n",
    "\\tilde{Y} &= W\\Theta + \\epsilon\n",
    "\\end{align*}\n",
    "$$\n",
    "Where\n",
    "$$\n",
    "\\Theta = \\{\\gamma' , \\beta'\\}'=\\{\\theta_{11},\\dots,\\theta_{Gm_G}\\}'\\\\\n",
    "W = \\{b^*(X),Z^*\\} =\\{W_{11}, \\dots W_{Gm_G}\\}\\\\\n",
    "\\epsilon \\sim N(0,\\sigma^2)\\\\\n",
    "$$"
   ]
  },
  {
   "cell_type": "markdown",
   "metadata": {},
   "source": [
    "## Prior\n",
    "$$\n",
    "\\begin{align*}\n",
    "Y | W,\\Theta &\\sim N(W\\Theta,\\sigma^2I)\\\\\n",
    "\\theta_{gj}|\\pi_g,\\sigma^2,v_{gj}^2 &\\sim^{ind} \\pi_g I(\\theta_{gj}=0) + (1-\\pi_g)N(0,\\sigma^2 v_{gj}^2),\\;\\;\\; g= 1\\dots,G\\;\\;, j=1,\\dots,m_g\\\\\n",
    "v_{gj}^2|\\lambda^2&\\sim^{iid} Exp(\\lambda^2/2)\\\\\n",
    "\\lambda^2 &\\sim Gamma(a_{\\lambda^2}, b_{\\lambda^2})\\\\\n",
    "\\pi_g &\\sim^{ind}Beta(a_{\\pi_g},b_{\\pi_g})\\\\\n",
    "\\sigma^2 &\\sim Inverse-Gamma(a,b), \\;\\; a=0,\\; b=1\n",
    "\\end{align*}\n",
    "$$"
   ]
  },
  {
   "cell_type": "markdown",
   "metadata": {},
   "source": [
    "## Posterior\n",
    "$$\n",
    "\\begin{align*}\n",
    "p(\\Theta,V,\\lambda^2,\\pi,\\sigma^2|\\tilde{Y}) \\propto& p(\\tilde{Y}|\\Theta,\\sigma^2) \\prod_{g=1}^G\\prod_{j=1}^{m_g}p(\\theta_{gj}|\\pi_g,\\sigma^2,v_{gj}^2) \\\\\n",
    "&\\prod_{g=1}^G\\prod_{j=1}^{m_g} p(v_{gj}^2 | \\lambda^2) \\prod_{g=1}^G p(\\pi_g) p(\\lambda^2) p(\\sigma^2)\\\\\n",
    "\\propto&(\\sigma^2)^{-n/2}\\prod_{g=1}^G\\prod_{j=1}^{m_g} exp\\left(-\\frac{\\theta_{gj}^2}{2\\sigma^2}W_{gj}'W_{gj}+\\frac{\\theta_{gj}}{\\sigma^2}W_{gj}'(\\tilde{Y}-W_{-gj}\\Theta_{-gj})\\right)\\\\\n",
    "&\\prod_{g=1}^G\\prod_{j=1}^{m_g}\\left[ \\pi_g I(\\theta_{gj}=0) + (1-\\pi_g)(\\sigma^2 v_{gj}^2)^{-1/2}exp\\left(-\\frac{1}{2\\sigma^2v_{gj}^2}\\theta_{gj}^2\\right)\\right]\\\\\n",
    "&\\prod_{g=1}^G\\prod_{j=1}^{m_g} v_{gj}^2\\frac{\\lambda^2}{2} exp\\left(-\\frac{\\lambda^2}{2}v_{gj}^2\\right)\\\\\n",
    "&\\prod_{g=1}^G (\\pi_g)^{a_{\\pi_g}-1} (1-\\pi_g)^{b_{\\pi_g}-1}\\\\\n",
    "& (\\lambda^2)^{a_{\\lambda^2}-1}exp(-b_{\\lambda^2}\\lambda^2)\\\\\n",
    "&(\\sigma^2)^{-1}exp(\\frac{1}{\\sigma^2})\n",
    "\\end{align*}\n",
    "$$"
   ]
  },
  {
   "cell_type": "markdown",
   "metadata": {},
   "source": [
    "## MFVB\n",
    "$$\n",
    "\\begin{align*}\n",
    "p(\\Theta,V,\\lambda^2,\\pi,\\sigma^2|\\tilde{Y}) &\\approx q(\\Theta,V,\\lambda^2,\\pi,\\sigma^2)\\\\\n",
    "&=\\prod_{g=1}^G\\prod_{j=1}^{m_g}q_1(\\theta_{gj})\\prod_{g=1}^G\\prod_{j=1}^{m_g}q_2(v_{gj})\\prod_{g=1}^Gq_3(\\pi_g)q_4(\\lambda^2)q_5(\\sigma^2)\n",
    "\\end{align*}\n",
    "$$"
   ]
  },
  {
   "cell_type": "markdown",
   "metadata": {},
   "source": [
    "### Variational Distribution of $\\Theta$\n",
    "$$\n",
    "\\begin{align*}\n",
    "q^*(\\theta_{gj}) \\propto& E_{-\\theta_{gj}}\\left[p(\\Theta,V,\\lambda^2,\\pi,\\sigma^2|\\tilde{Y})\\right] \\\\\n",
    "\\propto&l_{gj}I(\\theta_{gj}=0) + (1-l_{gj}) N(\\mu_{gj},\\Sigma_{gj} ) \n",
    "\\end{align*}\n",
    "$$\n",
    "where\n",
    "$$\n",
    "\\Sigma_{gj} = \\left<\\sigma^2\\right> \\left<\\frac{1}{W_{gj}'W_{gj}+ \\frac{1}{v_{gj}^2}}\\right>\\\\\n",
    "\\mu_{gj} = \\left<\\frac{1}{\\sigma^2}\\right>\\Sigma_{gj}(\\tilde{Y}-W_{-gj}\\left<\\Theta{-gj}\\right>)'W_{gj}\\\\\n",
    "l_{gj} = \\left<\\frac{\\pi_g}{\\pi_g + (1-\\pi_g)(1+v_{gj}W_{gj}'W_{gj})^{-1/2}exp\\left(\\frac{\\mu^2}{2\\Sigma}\\right))}\\right>\n",
    "$$\n",
    "and\n",
    "$$\n",
    "E[\\theta_{gj}] = (1-l_{gj})\\mu_{gj}\\\\\n",
    "E[\\theta_{gj}^2] = (1-l_{gj})(\\Sigma_{gj}+\\mu_{gj})\\\\ \n",
    "E[I(\\theta_{gj})=0] = l_{gj}\n",
    "$$"
   ]
  },
  {
   "cell_type": "markdown",
   "metadata": {},
   "source": [
    "### Variational Distribution of $\\pi_g$\n",
    "$$\n",
    "\\begin{align*}\n",
    "q^*(\\pi_g) \\propto& E_{-pi_g}\\left[p(\\Theta,V,\\lambda^2,\\pi,\\sigma^2|\\tilde{Y})\\right] \\\\\n",
    "\\sim&Beta(a_{\\pi_g} + \\sum_{j=1}^{m_g}<I(\\theta_{gj})=0>) , b_{\\pi_g} + m_g - \\sum_{j=1}^{m_g}<I(\\theta_{gj})=0>))\n",
    "\\end{align*}\n",
    "$$"
   ]
  },
  {
   "cell_type": "markdown",
   "metadata": {},
   "source": [
    "### Variational Distribution of $\\sigma^2$\n",
    "$$\n",
    "\\begin{align*}\n",
    "q^*(\\sigma^2) \\propto& E_{-\\sigma^2}\\left[p(\\Theta,V,\\lambda^2,\\pi,\\sigma^2|\\tilde{Y})\\right] \\\\\n",
    "\\sim&IG\\left(\\frac{n+\\sum_{g=1}^{G}m_g - \\sum_{g=1}^{G}\\sum_{j=1}^{m_g}<I(\\theta_{gj}=0)>-1}{2}, \\frac{<\\|(\\tilde{Y}-W\\Theta\\|_2^2>+<\\Theta>'D^{-1}<\\Theta>}{2}\\right)\n",
    "\\end{align*}\n",
    "$$\n",
    "where\n",
    "$$\n",
    "D = diag(<v_{11}^2>,\\dots,<v_{Gm_G}^2>)\n",
    "$$"
   ]
  },
  {
   "cell_type": "markdown",
   "metadata": {},
   "source": [
    "### Variational Distribution of $\\lambda^2$\n",
    "$$\n",
    "\\begin{align*}\n",
    "q^*(\\lambda^2) \\propto& E_{-\\lambda^2}\\left[p(\\Theta,V,\\lambda^2,\\pi,\\sigma^2|\\tilde{Y})\\right] \\\\\n",
    "\\sim&Gamma\\left(\\sum_{g=1}^{G}m_g + a_{\\lambda^2}, \\frac{\\sum_{g=1}^{G}\\sum_{j=1}^{m_g}v_{gj}^2}{2} + b_{\\lambda^2}\\right)\n",
    "\\end{align*}\n",
    "$$"
   ]
  },
  {
   "cell_type": "markdown",
   "metadata": {},
   "source": [
    "### Variational Distribution of $(v_{gj}^2)^{-1}$\n",
    "$$\n",
    "\\begin{align*}\n",
    "q^*((v_{gj}^2)^{-1}) \\propto& E_{-v_{gj}^2}\\left[p(\\Theta,V,\\lambda^2,\\pi,\\sigma^2|\\tilde{Y})\\right] \\\\\n",
    "\\sim&<I(\\theta_{gj}=0)>Inverse-Gamma(1,\\lambda^2/2) \\\\\n",
    "&+ <I(\\theta_{gj}\\neq 0)>Inverse-Gaussian(<\\theta_{gj}^{-1}><\\sqrt{\\lambda^2}><\\sqrt{\\sigma^2}>,<\\lambda^2>)\n",
    "\\end{align*}\n",
    "$$"
   ]
  },
  {
   "cell_type": "markdown",
   "metadata": {},
   "source": [
    "# Simulation when G=1"
   ]
  }
 ],
 "metadata": {
  "kernelspec": {
   "display_name": "Python 3",
   "language": "python",
   "name": "python3"
  },
  "language_info": {
   "codemirror_mode": {
    "name": "ipython",
    "version": 3
   },
   "file_extension": ".py",
   "mimetype": "text/x-python",
   "name": "python",
   "nbconvert_exporter": "python",
   "pygments_lexer": "ipython3",
   "version": "3.6.5"
  }
 },
 "nbformat": 4,
 "nbformat_minor": 2
}
