{
 "cells": [
  {
   "cell_type": "markdown",
   "metadata": {},
   "source": [
    "First import required modules"
   ]
  },
  {
   "cell_type": "code",
   "execution_count": 1,
   "metadata": {},
   "outputs": [],
   "source": [
    "import numpy as np\n",
    "import pandas as pd\n",
    "import matplotlib.pyplot as plt\n",
    "import scipy.stats as stats\n",
    "from scipy.special import digamma \n",
    "from scipy.linalg import sqrtm"
   ]
  },
  {
   "cell_type": "markdown",
   "metadata": {},
   "source": [
    "# Regression Spline\n",
    "Assume that the range of x is $[a,b]$. Let the point\n",
    "$$ a < \\xi_1 < \\dots < \\xi_K < b$$\n",
    "be a partion of the interval $[a,b]$  \n",
    "$\\left\\{ \\xi_1 , \\dots , \\xi_K \\right\\}$ are called knots."
   ]
  },
  {
   "cell_type": "markdown",
   "metadata": {},
   "source": [
    "Then make the function which return the knot points"
   ]
  },
  {
   "cell_type": "code",
   "execution_count": 2,
   "metadata": {},
   "outputs": [],
   "source": [
    "def defineKnot(X,K=14):\n",
    "    upper = max(X)\n",
    "    lower = min(X)\n",
    "    out = np.linspace(start=lower,stop=upper,num=K+2)[1:K+1]\n",
    "    return(out)"
   ]
  },
  {
   "cell_type": "markdown",
   "metadata": {},
   "source": [
    "# Radial Basis Function\n",
    "A RBF $\\varphi$ is a real valued function whose value depends only on the distance from origin.\n",
    "A real function $\\varphi : [0,\\infty) \\rightarrow {\\rm I\\!R}$ with a metric on space $\\| \\cdot \\| : V \\rightarrow [0,\\infty)$ a function $\\varphi_c = \\varphi(\\|\\mathbf{x} - \\mathbf{c}\\|)$ is said to be a radial kernel centered at c. A radial function and the associated radial kernels are said to be radial basis function"
   ]
  },
  {
   "cell_type": "markdown",
   "metadata": {},
   "source": [
    "we use radial basis functions defined by\n",
    "$$\n",
    "\\mathbf{b}(u) = \\left\\{  u, \\left| \\frac{u-\\tau_1}{c} \\right|^3 , \\cdots , \\left| \\frac{u-\\tau_K}{c} \\right|^3 \\right\\}\n",
    "$$\n",
    "where $c$ is sample standard deviation "
   ]
  },
  {
   "cell_type": "markdown",
   "metadata": {},
   "source": [
    "Then we can make the function which retrun the basis"
   ]
  },
  {
   "cell_type": "code",
   "execution_count": 3,
   "metadata": {},
   "outputs": [],
   "source": [
    "def b(u,tau,sd):\n",
    "    lst = []\n",
    "    #lst.append(np.ones(len(u)))\n",
    "    #lst.append(u)\n",
    "    for i in tau:\n",
    "        lst.append(abs((u-i)/sd)**3)\n",
    "    out = np.array(lst)\n",
    "    return(out)"
   ]
  },
  {
   "cell_type": "markdown",
   "metadata": {},
   "source": [
    "Nonparametric linear model can be represented as\n",
    "$$ Y = \\mathbf{b}(X) \\boldsymbol{\\beta} + \\varepsilon$$\n",
    "where $Y \\in  {\\rm I\\!R}^{n\\times1}, X \\in  {\\rm I\\!R}^{n\\times1}$ and $\\varepsilon \\sim N(0,\\tau^{-1})$"
   ]
  },
  {
   "cell_type": "markdown",
   "metadata": {},
   "source": [
    "# Make toy data"
   ]
  },
  {
   "cell_type": "markdown",
   "metadata": {},
   "source": [
    "Let\n",
    "$$y = 3\\exp\\left(-200(x-0.2)^2\\right) + \\exp\\left(-50(x-0.7)^2\\right) $$"
   ]
  },
  {
   "cell_type": "markdown",
   "metadata": {},
   "source": [
    "Plotting true distribution of $Y$ is"
   ]
  },
  {
   "cell_type": "code",
   "execution_count": 4,
   "metadata": {},
   "outputs": [],
   "source": [
    "def f(x):\n",
    "    #out = np.sin(2*np.pi*x)\n",
    "    out =3*np.exp(-200*(x-0.2)**2) + np.exp(-50*(x-0.7)**2)\n",
    "    return(out)\n",
    "lim = (-0.5,3.5)"
   ]
  },
  {
   "cell_type": "code",
   "execution_count": 5,
   "metadata": {},
   "outputs": [],
   "source": [
    "grid_x = np.linspace(0,1,1000)\n",
    "grid_y = f(grid_x)"
   ]
  },
  {
   "cell_type": "code",
   "execution_count": 6,
   "metadata": {},
   "outputs": [
    {
     "data": {
      "image/png": "[encoded data removed]",
      "text/plain": [
       "<Figure size 432x288 with 1 Axes>"
      ]
     },
     "metadata": {},
     "output_type": "display_data"
    }
   ],
   "source": [
    "plt.plot(grid_x, grid_y, 'k')\n",
    "#plt.ylim(lim)\n",
    "plt.show()"
   ]
  },
  {
   "cell_type": "markdown",
   "metadata": {},
   "source": [
    "make the simulation function which make the obs with error $N(0,0.5)$"
   ]
  },
  {
   "cell_type": "code",
   "execution_count": 7,
   "metadata": {},
   "outputs": [],
   "source": [
    "def mkToy(n=800,tau = 0.5):\n",
    "    np.random.seed(4428)\n",
    "    x = np.random.uniform(size = n)\n",
    "    e = np.random.normal(0,np.sqrt(0.5), size= n)\n",
    "    y = f(x) + e\n",
    "    #out = np.column_stack([x,y])\n",
    "    return(x,y)"
   ]
  },
  {
   "cell_type": "markdown",
   "metadata": {},
   "source": [
    "Plotting the distribution of simulated data\n",
    "$$y = 3\\exp\\left(-200(x-0.2)^2\\right) +  \\exp\\left(-50(x-0.7)^2\\right) + \\varepsilon$$\n",
    "where $\\varepsilon \\sim N(0,0.5)$"
   ]
  },
  {
   "cell_type": "code",
   "execution_count": 8,
   "metadata": {},
   "outputs": [],
   "source": [
    "x,y = mkToy()\n",
    "y= y-y.mean()"
   ]
  },
  {
   "cell_type": "code",
   "execution_count": 9,
   "metadata": {},
   "outputs": [
    {
     "data": {
      "image/png": "[encoded data removed]",
      "text/plain": [
       "<Figure size 432x288 with 1 Axes>"
      ]
     },
     "metadata": {},
     "output_type": "display_data"
    }
   ],
   "source": [
    "plt.plot(x,y,'ko')\n",
    "#plt.ylim(lim)\n",
    "plt.show()"
   ]
  },
  {
   "cell_type": "markdown",
   "metadata": {},
   "source": [
    "Calculate the standard deviation of observed data and define the knot and make design matrix"
   ]
  },
  {
   "cell_type": "code",
   "execution_count": 10,
   "metadata": {},
   "outputs": [],
   "source": [
    "sd = np.std(x)\n",
    "knot = defineKnot(x)\n",
    "d_x = b(x,knot,sd).T"
   ]
  },
  {
   "cell_type": "markdown",
   "metadata": {},
   "source": [
    "# LSE method\n",
    "plotting the fitted value"
   ]
  },
  {
   "cell_type": "code",
   "execution_count": 11,
   "metadata": {
    "scrolled": true
   },
   "outputs": [
    {
     "data": {
      "image/png": "[encoded data removed]",
      "text/plain": [
       "<Figure size 432x288 with 1 Axes>"
      ]
     },
     "metadata": {},
     "output_type": "display_data"
    }
   ],
   "source": [
    "fitted  = d_x.dot(np.linalg.inv(d_x.T.dot(d_x))).dot(d_x.T).dot(y)\n",
    "def lplot(x,fitted):\n",
    "    plot_m = np.array(sorted(np.array([x,fitted]).T,key=lambda x: x[0]))\n",
    "    plt.plot(plot_m[:,0],plot_m[:,1],'k',grid_x, grid_y-grid_y.mean(), '--')\n",
    "    #plt.ylim(lim)\n",
    "    plt.show()\n",
    "lplot(x,fitted)"
   ]
  },
  {
   "cell_type": "markdown",
   "metadata": {},
   "source": [
    "Blue dashed line is true function and solid line is LSE estimated function"
   ]
  },
  {
   "cell_type": "markdown",
   "metadata": {},
   "source": [
    "# MFVB method\n",
    "setting prior as\n",
    "$$\n",
    "\\begin{align*}\n",
    " p(Y|\\tau,\\beta)  &\\sim N(X\\beta , \\tau^{-1} \\cdot I_N)\\\\\n",
    " p(\\beta_i | \\gamma_i) &\\sim^{ind} N(0,\\gamma^{-1}) \\text{ for } i=1,\\dots p \\\\\n",
    " p(\\gamma) &\\sim Gamma(a,b) \\\\\n",
    " p(\\tau) &\\sim Gamma(c,d)   \n",
    "\\end{align*}\n",
    "$$"
   ]
  },
  {
   "cell_type": "markdown",
   "metadata": {},
   "source": [
    "By Baye's rule\n",
    "$$\n",
    "p(\\tau,\\gamma ,\\beta | Y) \\propto p(Y|\\tau,\\beta) p(\\beta | \\gamma) p(\\tau) p(\\gamma) \n",
    "$$\n",
    "Then variational distribution is\n",
    "$$\n",
    "p(\\tau,\\gamma ,\\mu | Y) \\approx q(\\tau,\\gamma,\\mu) = q_1(\\tau) q_2(\\gamma) q_3(\\mu)\n",
    "$$\n",
    "we can maximize ELBO by coordinate descent algorithm\n",
    "$$\n",
    "\\begin{align*}\n",
    "q_1^*(\\tau) &= E_{q_2,q_3}[p(\\tau,\\gamma ,\\beta | Y)] \\propto E_{q_2,q_3}[p(Y|\\tau,\\beta)  p(\\tau)]\\\\\n",
    "q_2^*(\\gamma) &= E_{q_1,q_3}[p(\\tau,\\gamma ,\\beta | Y)] \\propto E_{q_1,q_3}[ p(\\beta | \\gamma)   p(\\gamma)]\\\\\n",
    "q_3^*(\\beta) &= E_{q_1,q_2}[p(\\tau,\\gamma ,\\beta | Y)] \\propto E_{q_1,q_2}[p(Y|\\tau,\\beta) p(\\beta | \\gamma)   ]\\\\\n",
    "\\end{align*}\n",
    "$$\n",
    "Then\n",
    "$$\n",
    "\\begin{align*}\n",
    "q_1^* &\\sim Gamma\\left(c + \\frac{N+1}{2}, d + \\frac{1}{2}\\left\\{Y'Y -E_{q3}[\\beta'](X'Y)\\right\\} + tr\\left[X(var_{q3}[\\beta]+E_{q3}[\\beta]E_{q3}[\\beta'])X'\\right]\\right)\\\\\n",
    "q_2^* &\\sim \\prod_{i=1}^{p}Gamma( a+ \\frac{1}{2}, b + \\frac{1}{2}\\{var_{q3}[\\beta]_{i,i} +E_{q3}[\\beta_i]^2 \\})\\\\\n",
    "q_3^* &\\sim N\\left(E_{q1}[\\tau]\\Sigma X'Y,\\left(diag(E_{q2}[\\gamma]) + E_{q1}[\\tau]X'X \\right)^{-1} = \\Sigma \\right)\n",
    "\\end{align*}\n",
    "$$"
   ]
  },
  {
   "cell_type": "code",
   "execution_count": 12,
   "metadata": {},
   "outputs": [],
   "source": [
    "def product(a):\n",
    "    n = len(a)\n",
    "    out = np.zeros([n,n])\n",
    "    for i in range(n):\n",
    "        for j in range(n):\n",
    "            out[i,j] = a[i]*a[j]\n",
    "    return(out)"
   ]
  },
  {
   "cell_type": "code",
   "execution_count": 13,
   "metadata": {},
   "outputs": [],
   "source": [
    "def mfvb(X,y,max_iter=1000):\n",
    "    \n",
    "    N,p = X.shape\n",
    "    a ,b, c, d = [10**(-7)]*4\n",
    "    a_tilde = np.repeat(a + 0.5, p)\n",
    "    b_tilde = np.repeat(b,p)\n",
    "    c_tilde = c + (N+1)/2\n",
    "    d_tilde = d\n",
    "    \n",
    "    mu_coeffs = np.repeat(0,p)\n",
    "    sigma_coeffs = np.diag(np.repeat(1,p))\n",
    "    \n",
    "    for i in range(max_iter):\n",
    "        expected_coeffs = mu_coeffs\n",
    "        double_expected_coeffs = sigma_coeffs + product(mu_coeffs)\n",
    "        diagonal_sigma = np.diag(sigma_coeffs)\n",
    "        expected_alpha = np.array(list(map(lambda x : a_tilde[x]/b_tilde[x] , np.arange(0,p))))\n",
    "        log_expected_alpha = np.array(list(map(lambda x : digamma(a_tilde[x])-np.log(b_tilde[x]) , np.arange(0,p))))\n",
    "        expected_tau = c_tilde / d_tilde\n",
    "        log_expected_tau = digamma(c_tilde)-np.log(d_tilde)\n",
    "        sigma_coeffs = np.linalg.inv(np.diag(expected_alpha)+expected_tau*(X.T.dot(X)))\n",
    "        mu_coeffs =  expected_tau*sigma_coeffs.dot(X.T.dot(y))\n",
    "        b_tilde = np.array(list(map(lambda x : (diagonal_sigma[x]+mu_coeffs[x]**2)/2 + b , np.arange(0,p))))\n",
    "        d_tilde = d+0.5*(y.T.dot(y)) - expected_coeffs.T.dot((X.T.dot(y)))+ 0.5*sum(np.diag(X.dot(double_expected_coeffs).dot(X.T)))\n",
    "    return mu_coeffs,sigma_coeffs"
   ]
  },
  {
   "cell_type": "code",
   "execution_count": 14,
   "metadata": {},
   "outputs": [],
   "source": [
    "m,c = mfvb(d_x,y)"
   ]
  },
  {
   "cell_type": "code",
   "execution_count": 15,
   "metadata": {},
   "outputs": [
    {
     "data": {
      "text/plain": [
       "array([ 21.9, -88.7, 129. , -76. ,  12.8,   0. ,   0. ,  -0. ,  -1. ,\n",
       "        -0. ,   8. ,  -7.5,  -0. ,   1.2])"
      ]
     },
     "execution_count": 15,
     "metadata": {},
     "output_type": "execute_result"
    }
   ],
   "source": [
    "m.round(1)"
   ]
  },
  {
   "cell_type": "code",
   "execution_count": 16,
   "metadata": {},
   "outputs": [],
   "source": [
    "def ci95(m,c,n=100):\n",
    "    np.random.seed(4428)\n",
    "    sampled_coef = np.random.multivariate_normal(m,c,size=n)\n",
    "    y_grid = np.array([d_x.dot(b) for b in sampled_coef])\n",
    "    quantile = np.array([np.sort(x)[[int(n*0.025),int(n*0.5),int(n*0.975)]] for x in y_grid.T])\n",
    "    xq = np.array(sorted(np.array([x,quantile[:,0],quantile[:,1],quantile[:,2]]).T,key= lambda x : x[0]))\n",
    "    plt.fill_between(xq[:,0], xq[:,1],xq[:,3], color =(0,0,0,0.2))\n",
    "    y = f(grid_x)- f(grid_x).mean()\n",
    "    plt.plot(xq[:,0],xq[:,2],'k',grid_x, y, '--')\n",
    "    #plt.plot(x_grid,y_grid[10],'k',x_grid, f(x_grid), '--')\n",
    "    #plt.ylim(-1.5,3.5)\n",
    "    plt.show()"
   ]
  },
  {
   "cell_type": "code",
   "execution_count": 17,
   "metadata": {
    "scrolled": false
   },
   "outputs": [
    {
     "data": {
      "image/png": "[encoded data removed]",
      "text/plain": [
       "<Figure size 432x288 with 1 Axes>"
      ]
     },
     "metadata": {},
     "output_type": "display_data"
    }
   ],
   "source": [
    "ci95(m,c,n=1000)"
   ]
  },
  {
   "cell_type": "markdown",
   "metadata": {},
   "source": [
    "Dashed line is True function, solid line is median estimator and gray filled area is 95% confidence interval"
   ]
  },
  {
   "cell_type": "markdown",
   "metadata": {},
   "source": [
    "# MFVB method with variable selection\n",
    "Variable selection model is\n",
    "$$\n",
    "\\begin{align*}\n",
    "Y = X\\Gamma\\beta + \\epsilon , \\;\\;\\; \\epsilon \\sim N(0,\\sigma^2 I)\n",
    "\\end{align*}\n",
    "$$\n",
    "where \n",
    "$$\n",
    "\\begin{align*}\n",
    "Y|\\beta,\\sigma^2 ,\\gamma &\\sim N(X\\Gamma\\beta , \\sigma^2 I)\\\\\n",
    "\\sigma^2 &\\sim Inverse-Gamma(A,B)\\\\\n",
    "\\beta_j &\\sim N(0, \\sigma_{\\beta}^2)\\\\\n",
    "\\gamma_j &\\sim Bernoulli(\\rho)\n",
    "\\end{align*}\n",
    "$$"
   ]
  },
  {
   "cell_type": "code",
   "execution_count": 58,
   "metadata": {},
   "outputs": [],
   "source": [
    "\n",
    "n = 100\n",
    "x1 = np.random.uniform(size = n)\n",
    "x2 = np.random.uniform(size = n)\n",
    "x3 = np.random.uniform(size = n)\n",
    "x4 = np.random.uniform(size = n)\n",
    "x5 = np.random.uniform(size = n)\n",
    "x6 = np.random.uniform(size = n)\n",
    "\n",
    "X = np.array([x1,x2,x3,x4,x5,x6]).T\n",
    "Beta_true = np.array([0.02,0.03,0.4,1,0,0])\n",
    "y = X.dot(Beta_true) + np.random.normal(size=n)\n",
    "y = y- y.mean()\n",
    "N,p = X.shape\n"
   ]
  },
  {
   "cell_type": "code",
   "execution_count": 59,
   "metadata": {},
   "outputs": [],
   "source": [
    "def expit(x):\n",
    "    if x < 100:\n",
    "        return(np.exp(x)/(1+np.exp(x)))"
   ]
  },
  {
   "cell_type": "code",
   "execution_count": 60,
   "metadata": {},
   "outputs": [],
   "source": [
    "def vselect(X,y,maxiter=100):\n",
    "    N,p = X.shape\n",
    "    sigmab = 1\n",
    "    A = 10**(-7)\n",
    "    B = 10**(-7)\n",
    "    tau = 1\n",
    "    rho = 0.8\n",
    "    w = np.repeat(0.5,p)\n",
    "    lamb= np.log(rho/(1-rho))\n",
    "    t = 0\n",
    "    for iteration in range(maxiter):\n",
    "        test= False\n",
    "        W = np.diag(w)\n",
    "        omega = product(w) + W.dot(np.eye(p)-W)\n",
    "        sigma = np.linalg.inv(tau*np.multiply(X.T.dot(X),omega)+ (1/sigmab) * np.eye(p))\n",
    "        mu = tau*sigma.dot(W.dot(X.T.dot(y)))\n",
    "\n",
    "        s = B + 0.5*(np.linalg.norm(y)**2 -2*y.T.dot(X).dot(W).dot(mu) + np.trace(np.multiply(X.T.dot(X),omega).dot(product(mu) +sigma)))\n",
    "        tau = (A+N/2)/s\n",
    "\n",
    "        eta =np.zeros(len(w))\n",
    "\n",
    "        for j in range(p):\n",
    "            eta[j] = lamb - 0.5*tau *(mu[j]**2 + sigma[j,j])*np.linalg.norm(X[:,j])**2 + tau *X[:,j].dot(y*mu[j]-np.delete(X, j, axis=1).dot(np.diag(np.delete(w,j))).dot(np.delete(mu,j)*mu[j] + np.delete(sigma,j,axis=1)[j,:]))\n",
    "            w[j] = expit(eta[j]) \n",
    "\n",
    "        t= t+1\n",
    "    return(mu,sigma,w)"
   ]
  },
  {
   "cell_type": "code",
   "execution_count": 53,
   "metadata": {},
   "outputs": [
    {
     "ename": "ValueError",
     "evalue": "shapes (14,800) and (100,) not aligned: 800 (dim 1) != 100 (dim 0)",
     "output_type": "error",
     "traceback": [
      "\u001b[1;31m---------------------------------------------------------------------------\u001b[0m",
      "\u001b[1;31mValueError\u001b[0m                                Traceback (most recent call last)",
      "\u001b[1;32m<ipython-input-53-32fafb2081c5>\u001b[0m in \u001b[0;36m<module>\u001b[1;34m()\u001b[0m\n\u001b[1;32m----> 1\u001b[1;33m \u001b[0mm2\u001b[0m\u001b[1;33m,\u001b[0m\u001b[0mc2\u001b[0m\u001b[1;33m,\u001b[0m\u001b[0mw2\u001b[0m \u001b[1;33m=\u001b[0m \u001b[0mvselect\u001b[0m\u001b[1;33m(\u001b[0m\u001b[0md_x\u001b[0m\u001b[1;33m,\u001b[0m\u001b[0my\u001b[0m\u001b[1;33m)\u001b[0m\u001b[1;33m\u001b[0m\u001b[0m\n\u001b[0m",
      "\u001b[1;32m<ipython-input-52-b7168609cd98>\u001b[0m in \u001b[0;36mvselect\u001b[1;34m(X, y, maxiter)\u001b[0m\n\u001b[0;32m     14\u001b[0m         \u001b[0momega\u001b[0m \u001b[1;33m=\u001b[0m \u001b[0mproduct\u001b[0m\u001b[1;33m(\u001b[0m\u001b[0mw\u001b[0m\u001b[1;33m)\u001b[0m \u001b[1;33m+\u001b[0m \u001b[0mW\u001b[0m\u001b[1;33m.\u001b[0m\u001b[0mdot\u001b[0m\u001b[1;33m(\u001b[0m\u001b[0mnp\u001b[0m\u001b[1;33m.\u001b[0m\u001b[0meye\u001b[0m\u001b[1;33m(\u001b[0m\u001b[0mp\u001b[0m\u001b[1;33m)\u001b[0m\u001b[1;33m-\u001b[0m\u001b[0mW\u001b[0m\u001b[1;33m)\u001b[0m\u001b[1;33m\u001b[0m\u001b[0m\n\u001b[0;32m     15\u001b[0m         \u001b[0msigma\u001b[0m \u001b[1;33m=\u001b[0m \u001b[0mnp\u001b[0m\u001b[1;33m.\u001b[0m\u001b[0mlinalg\u001b[0m\u001b[1;33m.\u001b[0m\u001b[0minv\u001b[0m\u001b[1;33m(\u001b[0m\u001b[0mtau\u001b[0m\u001b[1;33m*\u001b[0m\u001b[0mnp\u001b[0m\u001b[1;33m.\u001b[0m\u001b[0mmultiply\u001b[0m\u001b[1;33m(\u001b[0m\u001b[0mX\u001b[0m\u001b[1;33m.\u001b[0m\u001b[0mT\u001b[0m\u001b[1;33m.\u001b[0m\u001b[0mdot\u001b[0m\u001b[1;33m(\u001b[0m\u001b[0mX\u001b[0m\u001b[1;33m)\u001b[0m\u001b[1;33m,\u001b[0m\u001b[0momega\u001b[0m\u001b[1;33m)\u001b[0m\u001b[1;33m+\u001b[0m \u001b[1;33m(\u001b[0m\u001b[1;36m1\u001b[0m\u001b[1;33m/\u001b[0m\u001b[0msigmab\u001b[0m\u001b[1;33m)\u001b[0m \u001b[1;33m*\u001b[0m \u001b[0mnp\u001b[0m\u001b[1;33m.\u001b[0m\u001b[0meye\u001b[0m\u001b[1;33m(\u001b[0m\u001b[0mp\u001b[0m\u001b[1;33m)\u001b[0m\u001b[1;33m)\u001b[0m\u001b[1;33m\u001b[0m\u001b[0m\n\u001b[1;32m---> 16\u001b[1;33m         \u001b[0mmu\u001b[0m \u001b[1;33m=\u001b[0m \u001b[0mtau\u001b[0m\u001b[1;33m*\u001b[0m\u001b[0msigma\u001b[0m\u001b[1;33m.\u001b[0m\u001b[0mdot\u001b[0m\u001b[1;33m(\u001b[0m\u001b[0mW\u001b[0m\u001b[1;33m.\u001b[0m\u001b[0mdot\u001b[0m\u001b[1;33m(\u001b[0m\u001b[0mX\u001b[0m\u001b[1;33m.\u001b[0m\u001b[0mT\u001b[0m\u001b[1;33m.\u001b[0m\u001b[0mdot\u001b[0m\u001b[1;33m(\u001b[0m\u001b[0my\u001b[0m\u001b[1;33m)\u001b[0m\u001b[1;33m)\u001b[0m\u001b[1;33m)\u001b[0m\u001b[1;33m\u001b[0m\u001b[0m\n\u001b[0m\u001b[0;32m     17\u001b[0m \u001b[1;33m\u001b[0m\u001b[0m\n\u001b[0;32m     18\u001b[0m         \u001b[0ms\u001b[0m \u001b[1;33m=\u001b[0m \u001b[0mB\u001b[0m \u001b[1;33m+\u001b[0m \u001b[1;36m0.5\u001b[0m\u001b[1;33m*\u001b[0m\u001b[1;33m(\u001b[0m\u001b[0mnp\u001b[0m\u001b[1;33m.\u001b[0m\u001b[0mlinalg\u001b[0m\u001b[1;33m.\u001b[0m\u001b[0mnorm\u001b[0m\u001b[1;33m(\u001b[0m\u001b[0my\u001b[0m\u001b[1;33m)\u001b[0m\u001b[1;33m**\u001b[0m\u001b[1;36m2\u001b[0m \u001b[1;33m-\u001b[0m\u001b[1;36m2\u001b[0m\u001b[1;33m*\u001b[0m\u001b[0my\u001b[0m\u001b[1;33m.\u001b[0m\u001b[0mT\u001b[0m\u001b[1;33m.\u001b[0m\u001b[0mdot\u001b[0m\u001b[1;33m(\u001b[0m\u001b[0mX\u001b[0m\u001b[1;33m)\u001b[0m\u001b[1;33m.\u001b[0m\u001b[0mdot\u001b[0m\u001b[1;33m(\u001b[0m\u001b[0mW\u001b[0m\u001b[1;33m)\u001b[0m\u001b[1;33m.\u001b[0m\u001b[0mdot\u001b[0m\u001b[1;33m(\u001b[0m\u001b[0mmu\u001b[0m\u001b[1;33m)\u001b[0m \u001b[1;33m+\u001b[0m \u001b[0mnp\u001b[0m\u001b[1;33m.\u001b[0m\u001b[0mtrace\u001b[0m\u001b[1;33m(\u001b[0m\u001b[0mnp\u001b[0m\u001b[1;33m.\u001b[0m\u001b[0mmultiply\u001b[0m\u001b[1;33m(\u001b[0m\u001b[0mX\u001b[0m\u001b[1;33m.\u001b[0m\u001b[0mT\u001b[0m\u001b[1;33m.\u001b[0m\u001b[0mdot\u001b[0m\u001b[1;33m(\u001b[0m\u001b[0mX\u001b[0m\u001b[1;33m)\u001b[0m\u001b[1;33m,\u001b[0m\u001b[0momega\u001b[0m\u001b[1;33m)\u001b[0m\u001b[1;33m.\u001b[0m\u001b[0mdot\u001b[0m\u001b[1;33m(\u001b[0m\u001b[0mproduct\u001b[0m\u001b[1;33m(\u001b[0m\u001b[0mmu\u001b[0m\u001b[1;33m)\u001b[0m \u001b[1;33m+\u001b[0m\u001b[0msigma\u001b[0m\u001b[1;33m)\u001b[0m\u001b[1;33m)\u001b[0m\u001b[1;33m)\u001b[0m\u001b[1;33m\u001b[0m\u001b[0m\n",
      "\u001b[1;31mValueError\u001b[0m: shapes (14,800) and (100,) not aligned: 800 (dim 1) != 100 (dim 0)"
     ]
    }
   ],
   "source": [
    "m2,c2,w2 = vselect(d_x,y)"
   ]
  },
  {
   "cell_type": "code",
   "execution_count": 57,
   "metadata": {},
   "outputs": [
    {
     "data": {
      "text/plain": [
       "array([0.994, 0.955, 1.   , 1.   , 1.   , 0.   ])"
      ]
     },
     "execution_count": 57,
     "metadata": {},
     "output_type": "execute_result"
    }
   ],
   "source": [
    "w2.round(3)"
   ]
  },
  {
   "cell_type": "code",
   "execution_count": 55,
   "metadata": {},
   "outputs": [],
   "source": [
    "m2,c2,w2 = vselect(X,y)"
   ]
  },
  {
   "cell_type": "code",
   "execution_count": 28,
   "metadata": {},
   "outputs": [],
   "source": [
    "def cil95(m,c,w,n=100):\n",
    "    np.random.seed(4428)\n",
    "    #smaple_gam = np.random.r\n",
    "    sampled_coef = np.random.multivariate_normal(m*w,c,size=n)\n",
    "    y_grid = np.array([d_x.dot(b) for b in sampled_coef])\n",
    "    quantile = np.array([np.sort(x)[[int(n*0.05),int(n*0.5),int(n*0.95)]] for x in y_grid.T])\n",
    "    xq = np.array(sorted(np.array([x,quantile[:,0],quantile[:,1],quantile[:,2]]).T,key= lambda x : x[0]))\n",
    "    plt.fill_between(xq[:,0], xq[:,1],xq[:,3], color =(0,0,0,0.2))\n",
    "    y = f(grid_x)- f(grid_x).mean()\n",
    "    plt.plot(xq[:,0],xq[:,2],'k',grid_x, y, '--')\n",
    "    #plt.plot(x_grid,y_grid[10],'k',x_grid, f(x_grid), '--')\n",
    "    plt.ylim(-1.5,3.5)\n",
    "    plt.show()"
   ]
  },
  {
   "cell_type": "code",
   "execution_count": null,
   "metadata": {},
   "outputs": [],
   "source": []
  },
  {
   "cell_type": "code",
   "execution_count": 29,
   "metadata": {},
   "outputs": [
    {
     "ename": "ValueError",
     "evalue": "shapes (800,14) and (6,) not aligned: 14 (dim 1) != 6 (dim 0)",
     "output_type": "error",
     "traceback": [
      "\u001b[1;31m---------------------------------------------------------------------------\u001b[0m",
      "\u001b[1;31mValueError\u001b[0m                                Traceback (most recent call last)",
      "\u001b[1;32m<ipython-input-29-d5a18abd201a>\u001b[0m in \u001b[0;36m<module>\u001b[1;34m()\u001b[0m\n\u001b[1;32m----> 1\u001b[1;33m \u001b[0mcil95\u001b[0m\u001b[1;33m(\u001b[0m\u001b[0mm2\u001b[0m\u001b[1;33m,\u001b[0m\u001b[0mc2\u001b[0m\u001b[1;33m,\u001b[0m\u001b[0mw2\u001b[0m\u001b[1;33m)\u001b[0m\u001b[1;33m\u001b[0m\u001b[0m\n\u001b[0m",
      "\u001b[1;32m<ipython-input-28-473ac3e84e70>\u001b[0m in \u001b[0;36mcil95\u001b[1;34m(m, c, w, n)\u001b[0m\n\u001b[0;32m      3\u001b[0m     \u001b[1;31m#smaple_gam = np.random.r\u001b[0m\u001b[1;33m\u001b[0m\u001b[1;33m\u001b[0m\u001b[0m\n\u001b[0;32m      4\u001b[0m     \u001b[0msampled_coef\u001b[0m \u001b[1;33m=\u001b[0m \u001b[0mnp\u001b[0m\u001b[1;33m.\u001b[0m\u001b[0mrandom\u001b[0m\u001b[1;33m.\u001b[0m\u001b[0mmultivariate_normal\u001b[0m\u001b[1;33m(\u001b[0m\u001b[0mm\u001b[0m\u001b[1;33m*\u001b[0m\u001b[0mw\u001b[0m\u001b[1;33m,\u001b[0m\u001b[0mc\u001b[0m\u001b[1;33m,\u001b[0m\u001b[0msize\u001b[0m\u001b[1;33m=\u001b[0m\u001b[0mn\u001b[0m\u001b[1;33m)\u001b[0m\u001b[1;33m\u001b[0m\u001b[0m\n\u001b[1;32m----> 5\u001b[1;33m     \u001b[0my_grid\u001b[0m \u001b[1;33m=\u001b[0m \u001b[0mnp\u001b[0m\u001b[1;33m.\u001b[0m\u001b[0marray\u001b[0m\u001b[1;33m(\u001b[0m\u001b[1;33m[\u001b[0m\u001b[0md_x\u001b[0m\u001b[1;33m.\u001b[0m\u001b[0mdot\u001b[0m\u001b[1;33m(\u001b[0m\u001b[0mb\u001b[0m\u001b[1;33m)\u001b[0m \u001b[1;32mfor\u001b[0m \u001b[0mb\u001b[0m \u001b[1;32min\u001b[0m \u001b[0msampled_coef\u001b[0m\u001b[1;33m]\u001b[0m\u001b[1;33m)\u001b[0m\u001b[1;33m\u001b[0m\u001b[0m\n\u001b[0m\u001b[0;32m      6\u001b[0m     \u001b[0mquantile\u001b[0m \u001b[1;33m=\u001b[0m \u001b[0mnp\u001b[0m\u001b[1;33m.\u001b[0m\u001b[0marray\u001b[0m\u001b[1;33m(\u001b[0m\u001b[1;33m[\u001b[0m\u001b[0mnp\u001b[0m\u001b[1;33m.\u001b[0m\u001b[0msort\u001b[0m\u001b[1;33m(\u001b[0m\u001b[0mx\u001b[0m\u001b[1;33m)\u001b[0m\u001b[1;33m[\u001b[0m\u001b[1;33m[\u001b[0m\u001b[0mint\u001b[0m\u001b[1;33m(\u001b[0m\u001b[0mn\u001b[0m\u001b[1;33m*\u001b[0m\u001b[1;36m0.05\u001b[0m\u001b[1;33m)\u001b[0m\u001b[1;33m,\u001b[0m\u001b[0mint\u001b[0m\u001b[1;33m(\u001b[0m\u001b[0mn\u001b[0m\u001b[1;33m*\u001b[0m\u001b[1;36m0.5\u001b[0m\u001b[1;33m)\u001b[0m\u001b[1;33m,\u001b[0m\u001b[0mint\u001b[0m\u001b[1;33m(\u001b[0m\u001b[0mn\u001b[0m\u001b[1;33m*\u001b[0m\u001b[1;36m0.95\u001b[0m\u001b[1;33m)\u001b[0m\u001b[1;33m]\u001b[0m\u001b[1;33m]\u001b[0m \u001b[1;32mfor\u001b[0m \u001b[0mx\u001b[0m \u001b[1;32min\u001b[0m \u001b[0my_grid\u001b[0m\u001b[1;33m.\u001b[0m\u001b[0mT\u001b[0m\u001b[1;33m]\u001b[0m\u001b[1;33m)\u001b[0m\u001b[1;33m\u001b[0m\u001b[0m\n\u001b[0;32m      7\u001b[0m     \u001b[0mxq\u001b[0m \u001b[1;33m=\u001b[0m \u001b[0mnp\u001b[0m\u001b[1;33m.\u001b[0m\u001b[0marray\u001b[0m\u001b[1;33m(\u001b[0m\u001b[0msorted\u001b[0m\u001b[1;33m(\u001b[0m\u001b[0mnp\u001b[0m\u001b[1;33m.\u001b[0m\u001b[0marray\u001b[0m\u001b[1;33m(\u001b[0m\u001b[1;33m[\u001b[0m\u001b[0mx\u001b[0m\u001b[1;33m,\u001b[0m\u001b[0mquantile\u001b[0m\u001b[1;33m[\u001b[0m\u001b[1;33m:\u001b[0m\u001b[1;33m,\u001b[0m\u001b[1;36m0\u001b[0m\u001b[1;33m]\u001b[0m\u001b[1;33m,\u001b[0m\u001b[0mquantile\u001b[0m\u001b[1;33m[\u001b[0m\u001b[1;33m:\u001b[0m\u001b[1;33m,\u001b[0m\u001b[1;36m1\u001b[0m\u001b[1;33m]\u001b[0m\u001b[1;33m,\u001b[0m\u001b[0mquantile\u001b[0m\u001b[1;33m[\u001b[0m\u001b[1;33m:\u001b[0m\u001b[1;33m,\u001b[0m\u001b[1;36m2\u001b[0m\u001b[1;33m]\u001b[0m\u001b[1;33m]\u001b[0m\u001b[1;33m)\u001b[0m\u001b[1;33m.\u001b[0m\u001b[0mT\u001b[0m\u001b[1;33m,\u001b[0m\u001b[0mkey\u001b[0m\u001b[1;33m=\u001b[0m \u001b[1;32mlambda\u001b[0m \u001b[0mx\u001b[0m \u001b[1;33m:\u001b[0m \u001b[0mx\u001b[0m\u001b[1;33m[\u001b[0m\u001b[1;36m0\u001b[0m\u001b[1;33m]\u001b[0m\u001b[1;33m)\u001b[0m\u001b[1;33m)\u001b[0m\u001b[1;33m\u001b[0m\u001b[0m\n",
      "\u001b[1;32m<ipython-input-28-473ac3e84e70>\u001b[0m in \u001b[0;36m<listcomp>\u001b[1;34m(.0)\u001b[0m\n\u001b[0;32m      3\u001b[0m     \u001b[1;31m#smaple_gam = np.random.r\u001b[0m\u001b[1;33m\u001b[0m\u001b[1;33m\u001b[0m\u001b[0m\n\u001b[0;32m      4\u001b[0m     \u001b[0msampled_coef\u001b[0m \u001b[1;33m=\u001b[0m \u001b[0mnp\u001b[0m\u001b[1;33m.\u001b[0m\u001b[0mrandom\u001b[0m\u001b[1;33m.\u001b[0m\u001b[0mmultivariate_normal\u001b[0m\u001b[1;33m(\u001b[0m\u001b[0mm\u001b[0m\u001b[1;33m*\u001b[0m\u001b[0mw\u001b[0m\u001b[1;33m,\u001b[0m\u001b[0mc\u001b[0m\u001b[1;33m,\u001b[0m\u001b[0msize\u001b[0m\u001b[1;33m=\u001b[0m\u001b[0mn\u001b[0m\u001b[1;33m)\u001b[0m\u001b[1;33m\u001b[0m\u001b[0m\n\u001b[1;32m----> 5\u001b[1;33m     \u001b[0my_grid\u001b[0m \u001b[1;33m=\u001b[0m \u001b[0mnp\u001b[0m\u001b[1;33m.\u001b[0m\u001b[0marray\u001b[0m\u001b[1;33m(\u001b[0m\u001b[1;33m[\u001b[0m\u001b[0md_x\u001b[0m\u001b[1;33m.\u001b[0m\u001b[0mdot\u001b[0m\u001b[1;33m(\u001b[0m\u001b[0mb\u001b[0m\u001b[1;33m)\u001b[0m \u001b[1;32mfor\u001b[0m \u001b[0mb\u001b[0m \u001b[1;32min\u001b[0m \u001b[0msampled_coef\u001b[0m\u001b[1;33m]\u001b[0m\u001b[1;33m)\u001b[0m\u001b[1;33m\u001b[0m\u001b[0m\n\u001b[0m\u001b[0;32m      6\u001b[0m     \u001b[0mquantile\u001b[0m \u001b[1;33m=\u001b[0m \u001b[0mnp\u001b[0m\u001b[1;33m.\u001b[0m\u001b[0marray\u001b[0m\u001b[1;33m(\u001b[0m\u001b[1;33m[\u001b[0m\u001b[0mnp\u001b[0m\u001b[1;33m.\u001b[0m\u001b[0msort\u001b[0m\u001b[1;33m(\u001b[0m\u001b[0mx\u001b[0m\u001b[1;33m)\u001b[0m\u001b[1;33m[\u001b[0m\u001b[1;33m[\u001b[0m\u001b[0mint\u001b[0m\u001b[1;33m(\u001b[0m\u001b[0mn\u001b[0m\u001b[1;33m*\u001b[0m\u001b[1;36m0.05\u001b[0m\u001b[1;33m)\u001b[0m\u001b[1;33m,\u001b[0m\u001b[0mint\u001b[0m\u001b[1;33m(\u001b[0m\u001b[0mn\u001b[0m\u001b[1;33m*\u001b[0m\u001b[1;36m0.5\u001b[0m\u001b[1;33m)\u001b[0m\u001b[1;33m,\u001b[0m\u001b[0mint\u001b[0m\u001b[1;33m(\u001b[0m\u001b[0mn\u001b[0m\u001b[1;33m*\u001b[0m\u001b[1;36m0.95\u001b[0m\u001b[1;33m)\u001b[0m\u001b[1;33m]\u001b[0m\u001b[1;33m]\u001b[0m \u001b[1;32mfor\u001b[0m \u001b[0mx\u001b[0m \u001b[1;32min\u001b[0m \u001b[0my_grid\u001b[0m\u001b[1;33m.\u001b[0m\u001b[0mT\u001b[0m\u001b[1;33m]\u001b[0m\u001b[1;33m)\u001b[0m\u001b[1;33m\u001b[0m\u001b[0m\n\u001b[0;32m      7\u001b[0m     \u001b[0mxq\u001b[0m \u001b[1;33m=\u001b[0m \u001b[0mnp\u001b[0m\u001b[1;33m.\u001b[0m\u001b[0marray\u001b[0m\u001b[1;33m(\u001b[0m\u001b[0msorted\u001b[0m\u001b[1;33m(\u001b[0m\u001b[0mnp\u001b[0m\u001b[1;33m.\u001b[0m\u001b[0marray\u001b[0m\u001b[1;33m(\u001b[0m\u001b[1;33m[\u001b[0m\u001b[0mx\u001b[0m\u001b[1;33m,\u001b[0m\u001b[0mquantile\u001b[0m\u001b[1;33m[\u001b[0m\u001b[1;33m:\u001b[0m\u001b[1;33m,\u001b[0m\u001b[1;36m0\u001b[0m\u001b[1;33m]\u001b[0m\u001b[1;33m,\u001b[0m\u001b[0mquantile\u001b[0m\u001b[1;33m[\u001b[0m\u001b[1;33m:\u001b[0m\u001b[1;33m,\u001b[0m\u001b[1;36m1\u001b[0m\u001b[1;33m]\u001b[0m\u001b[1;33m,\u001b[0m\u001b[0mquantile\u001b[0m\u001b[1;33m[\u001b[0m\u001b[1;33m:\u001b[0m\u001b[1;33m,\u001b[0m\u001b[1;36m2\u001b[0m\u001b[1;33m]\u001b[0m\u001b[1;33m]\u001b[0m\u001b[1;33m)\u001b[0m\u001b[1;33m.\u001b[0m\u001b[0mT\u001b[0m\u001b[1;33m,\u001b[0m\u001b[0mkey\u001b[0m\u001b[1;33m=\u001b[0m \u001b[1;32mlambda\u001b[0m \u001b[0mx\u001b[0m \u001b[1;33m:\u001b[0m \u001b[0mx\u001b[0m\u001b[1;33m[\u001b[0m\u001b[1;36m0\u001b[0m\u001b[1;33m]\u001b[0m\u001b[1;33m)\u001b[0m\u001b[1;33m)\u001b[0m\u001b[1;33m\u001b[0m\u001b[0m\n",
      "\u001b[1;31mValueError\u001b[0m: shapes (800,14) and (6,) not aligned: 14 (dim 1) != 6 (dim 0)"
     ]
    }
   ],
   "source": [
    "cil95(m2,c2,w2)"
   ]
  },
  {
   "cell_type": "code",
   "execution_count": null,
   "metadata": {},
   "outputs": [],
   "source": []
  }
 ],
 "metadata": {
  "kernelspec": {
   "display_name": "Python 3",
   "language": "python",
   "name": "python3"
  },
  "language_info": {
   "codemirror_mode": {
    "name": "ipython",
    "version": 3
   },
   "file_extension": ".py",
   "mimetype": "text/x-python",
   "name": "python",
   "nbconvert_exporter": "python",
   "pygments_lexer": "ipython3",
   "version": "3.6.5"
  }
 },
 "nbformat": 4,
 "nbformat_minor": 2
}
