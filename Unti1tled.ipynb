{
 "cells": [
  {
   "cell_type": "code",
   "execution_count": 1,
   "metadata": {},
   "outputs": [],
   "source": [
    "import numpy as np\n",
    "import pandas as pd\n",
    "import matplotlib.pyplot as plt\n",
    "import scipy.stats as stats\n",
    "from scipy.special import digamma "
   ]
  },
  {
   "cell_type": "code",
   "execution_count": 16,
   "metadata": {},
   "outputs": [],
   "source": [
    "def defineKnot(X,K=14):\n",
    "    upper = max(X)\n",
    "    lower = min(X)\n",
    "    out = np.linspace(start=lower,stop=upper,num=K+2)[1:K+1]\n",
    "    return(out)"
   ]
  },
  {
   "cell_type": "code",
   "execution_count": 17,
   "metadata": {},
   "outputs": [],
   "source": [
    "def b(u,tau,sd):\n",
    "    lst = []\n",
    "    lst.append(u)\n",
    "    for i in tau:\n",
    "        lst.append(abs((u-i)/sd)**3)\n",
    "    out = np.array(lst)\n",
    "    return(out)"
   ]
  },
  {
   "cell_type": "code",
   "execution_count": 18,
   "metadata": {},
   "outputs": [],
   "source": [
    "def mkToy(n=800,tau = 0.5):\n",
    "    x = np.random.uniform(size = n)\n",
    "    e = np.random.normal(0,np.sqrt(0.5), size= n)\n",
    "    y = 3*np.exp(-30*(x-0.2)**2) + np.exp(-50*(x-0.7)**2) + e\n",
    "    #out = np.column_stack([x,y])\n",
    "    return(x,y)"
   ]
  },
  {
   "cell_type": "code",
   "execution_count": 22,
   "metadata": {},
   "outputs": [],
   "source": [
    "x,yoigin = mkToy()\n",
    "y = yoigin - yoigin.mean()"
   ]
  },
  {
   "cell_type": "code",
   "execution_count": 61,
   "metadata": {},
   "outputs": [],
   "source": [
    "sd = np.std(x)\n",
    "knot = defineKnot(x)\n",
    "d_x = b(x,knot,sd).T\n",
    "fitted  = d_x.dot(np.linalg.inv(d_x.T.dot(d_x))).dot(d_x.T).dot(y)"
   ]
  },
  {
   "cell_type": "code",
   "execution_count": 220,
   "metadata": {},
   "outputs": [],
   "source": [
    "W = d_x\n",
    "n,p = W.shape\n",
    "beta = np.linalg.inv(d_x.T.dot(d_x)).dot(d_x.T).dot(y)\n",
    "pi = 0.5\n",
    "nu = np.repeat(1,p)\n",
    "sigma2 =1\n",
    "api = 1\n",
    "bpi = 1\n",
    "Lam2 = 1\n",
    "alam =1\n",
    "blam =1"
   ]
  },
  {
   "cell_type": "code",
   "execution_count": 221,
   "metadata": {},
   "outputs": [
    {
     "data": {
      "text/plain": [
       "[<matplotlib.lines.Line2D at 0x2753765fb00>]"
      ]
     },
     "execution_count": 221,
     "metadata": {},
     "output_type": "execute_result"
    },
    {
     "data": {
      "image/png": "[encoded data removed]",
      "text/plain": [
       "<Figure size 432x288 with 1 Axes>"
      ]
     },
     "metadata": {},
     "output_type": "display_data"
    }
   ],
   "source": [
    "plt.plot(x,fitted,'o')"
   ]
  },
  {
   "cell_type": "code",
   "execution_count": 222,
   "metadata": {},
   "outputs": [],
   "source": [
    "#sample beta\n",
    "def sampBeta(W,beta,nu,pi):\n",
    "    L = np.zeros(p)\n",
    "    De = np.zeros(p)\n",
    "    Nu = np.zeros(p)\n",
    "    for j in range(p):\n",
    "        De[j] = W[:,j].T.dot(W[:,j]) + 1/nu[j]\n",
    "        #Nu[j] = (y -np.delete(W,j,1).dot(np.delete(beta,j,0))).T.dot(W[:,j])\n",
    "        Nu[j] = (y).T.dot(W[:,j])\n",
    "\n",
    "    for j in range(p):\n",
    "        L[j] = pi/(pi+ np.exp((Nu[j]**2)/(2*De[j]*sigma2))*(1-pi)*((1+nu[j])*W[:,j].dot(W[:,j]))**(-1/2))\n",
    "\n",
    "    Beta = np.zeros(p)\n",
    "\n",
    "    for j in range(p):\n",
    "        cutoff = np.random.uniform()\n",
    "        if cutoff > L[j]:\n",
    "            Beta[j]=np.random.normal(Nu[j]/De[j],np.sqrt(sigma2/De[j]))\n",
    "        else:\n",
    "            Beta[j]=0\n",
    "    return(Beta)"
   ]
  },
  {
   "cell_type": "code",
   "execution_count": 223,
   "metadata": {},
   "outputs": [],
   "source": [
    "# sample pi\n",
    "def samplepi(Beta):\n",
    "    nzero = (Beta==0).sum()\n",
    "    Pi = np.random.beta(api + nzero,bpi+ p -nzero)\n",
    "    return(Pi)"
   ]
  },
  {
   "cell_type": "code",
   "execution_count": 224,
   "metadata": {},
   "outputs": [],
   "source": [
    "def samplesigma2(Beta,Nu):\n",
    "    nzero = (Beta==0).sum()\n",
    "    N = n + p -nzero -1\n",
    "    Dv = np.diag(1/Nu)\n",
    "    salpha = N/2\n",
    "    sbeta = 0.5*(y-W.dot(Beta)).dot(y-W.dot(Beta))+Beta.T.dot(Dv).dot(Beta)\n",
    "    ss = np.random.gamma(salpha,1/sbeta)\n",
    "    Sigma2 = 1/ss\n",
    "    return(Sigma2)"
   ]
  },
  {
   "cell_type": "code",
   "execution_count": 225,
   "metadata": {},
   "outputs": [],
   "source": [
    "def sampleNu(Beta,Lam2,Sigam2):\n",
    "    V = np.zeros(p)\n",
    "    for j in range(p):\n",
    "        if Beta[j]==0:\n",
    "            V[j] = np.random.gamma(1,Lam2/2)\n",
    "        else :\n",
    "            V[j] = np.random.normal(np.sqrt(Lam2*Sigma2/(Beta[j])**2),np.sqrt(Lam2))\n",
    "    out = 1/V\n",
    "    return(out)"
   ]
  },
  {
   "cell_type": "code",
   "execution_count": 226,
   "metadata": {},
   "outputs": [],
   "source": [
    "def samlpelam2(Nu,Beta):\n",
    "    nzero = (Beta==0).sum()\n",
    "    lalpha = p + alam\n",
    "    lbeta = nzero/2 + blam\n",
    "    out = np.random.gamma(lalpha,1/lbeta)\n",
    "    return(out)"
   ]
  },
  {
   "cell_type": "code",
   "execution_count": 227,
   "metadata": {},
   "outputs": [],
   "source": [
    "#init\n",
    "Beta = sampBeta(W,beta,nu,pi)\n",
    "Pi = samplepi(Beta)\n",
    "Sigma2 = samplesigma2(Beta,Nu)\n",
    "Nu = sampleNu(Beta,Lam2,Sigma2)\n",
    "Lam2 = samlpelam2(Nu,Beta)\n",
    "\n",
    "param = [Beta,Pi,Sigma2,Nu,Lam2]\n",
    "betalst = [Beta]"
   ]
  },
  {
   "cell_type": "code",
   "execution_count": 242,
   "metadata": {},
   "outputs": [],
   "source": [
    "for k in range(100000):\n",
    "    Beta = sampBeta(W,Beta,Nu,Pi)\n",
    "    Pi = samplepi(Beta)\n",
    "    Sigma2 = samplesigma2(Beta,Nu)\n",
    "    Nu = sampleNu(Beta,Lam2,Sigma2)\n",
    "    Lam2 = samlpelam2(Nu,Beta)\n",
    "\n",
    "    param.append([Beta,Pi,Sigma2,Nu,Lam2])\n",
    "    betalst.append(Beta)"
   ]
  },
  {
   "cell_type": "code",
   "execution_count": 243,
   "metadata": {},
   "outputs": [
    {
     "data": {
      "text/plain": [
       "[<matplotlib.lines.Line2D at 0x27536f3f550>]"
      ]
     },
     "execution_count": 243,
     "metadata": {},
     "output_type": "execute_result"
    },
    {
     "data": {
      "image/png": "[encoded data removed]",
      "text/plain": [
       "<Figure size 432x288 with 1 Axes>"
      ]
     },
     "metadata": {},
     "output_type": "display_data"
    }
   ],
   "source": [
    "plt.plot(pd.DataFrame(betalst)[0][1000:])"
   ]
  },
  {
   "cell_type": "code",
   "execution_count": 244,
   "metadata": {},
   "outputs": [],
   "source": [
    "def acf(sampl,lag =40):\n",
    "    sampl = np.array(sampl)\n",
    "    base = sampl.dot(sampl)/len(sampl)\n",
    "    acr = [1]\n",
    "    for t in range(1,lag):\n",
    "        acr.append((sampl[t:].dot(sampl[:-t])/(len(sampl)-t))/base)\n",
    "    x = list(range(lag))\n",
    "    plt.bar(x,acr,color='gray')\n",
    "    plt.title('Autocorrelation plot')\n",
    "    plt.hlines(0.05,xmin=-0.5 ,xmax=lag,colors='r',linestyles='dashed')\n",
    "    plt.hlines(-0.05,xmin=-0.5 ,xmax=lag,colors='r',linestyles='dashed')\n",
    "    #plt.show()"
   ]
  },
  {
   "cell_type": "code",
   "execution_count": 245,
   "metadata": {},
   "outputs": [
    {
     "data": {
      "image/png": "[encoded data removed]",
      "text/plain": [
       "<Figure size 432x288 with 1 Axes>"
      ]
     },
     "metadata": {},
     "output_type": "display_data"
    }
   ],
   "source": [
    "acf(pd.DataFrame(betalst)[0][10000:])"
   ]
  },
  {
   "cell_type": "code",
   "execution_count": 252,
   "metadata": {},
   "outputs": [],
   "source": [
    "medebetalst = []\n",
    "for j in range(p):\n",
    "    medebetalst.append(pd.DataFrame(betalst)[j][50000])"
   ]
  },
  {
   "cell_type": "code",
   "execution_count": 257,
   "metadata": {},
   "outputs": [
    {
     "data": {
      "text/plain": [
       "0    -0.715411\n",
       "1    -0.041065\n",
       "2    -0.050388\n",
       "3    -0.064643\n",
       "4    -0.087643\n",
       "5    -0.115931\n",
       "6    -0.138115\n",
       "7    -0.089984\n",
       "8     0.000000\n",
       "9     0.120704\n",
       "10    0.097411\n",
       "11    0.086790\n",
       "12    0.065001\n",
       "13    0.051762\n",
       "14    0.038259\n",
       "Name: 0, dtype: float64"
      ]
     },
     "execution_count": 257,
     "metadata": {},
     "output_type": "execute_result"
    }
   ],
   "source": [
    "df = pd.DataFrame(betalst)\n",
    "df.iloc[0,:]"
   ]
  },
  {
   "cell_type": "code",
   "execution_count": 259,
   "metadata": {
    "scrolled": true
   },
   "outputs": [
    {
     "data": {
      "text/plain": [
       "[<matplotlib.lines.Line2D at 0x27549f67a90>]"
      ]
     },
     "execution_count": 259,
     "metadata": {},
     "output_type": "execute_result"
    },
    {
     "data": {
      "image/png": "[encoded data removed]",
      "text/plain": [
       "<Figure size 432x288 with 1 Axes>"
      ]
     },
     "metadata": {},
     "output_type": "display_data"
    }
   ],
   "source": [
    "medebetalst = df.iloc[100,:]\n",
    "plt.plot(x,d_x.dot(medebetalst),'o')"
   ]
  },
  {
   "cell_type": "code",
   "execution_count": 240,
   "metadata": {},
   "outputs": [
    {
     "data": {
      "text/plain": [
       "array([  1.26907949,  -1.46012801,  -2.47185509,   8.60918576,\n",
       "        -5.79540753,   9.16373308, -11.26882131,   2.98640839,\n",
       "        -5.63469397,  13.84937719, -21.52735953,  23.3706817 ,\n",
       "        -8.37179514,  -5.62781926,   3.80034775])"
      ]
     },
     "execution_count": 240,
     "metadata": {},
     "output_type": "execute_result"
    }
   ],
   "source": [
    "beta"
   ]
  },
  {
   "cell_type": "code",
   "execution_count": 241,
   "metadata": {},
   "outputs": [
    {
     "data": {
      "text/plain": [
       "[-0.590310694494414,\n",
       " -0.040064685504771456,\n",
       " -0.05148803704592767,\n",
       " -0.06697583529527616,\n",
       " -0.08801644439348004,\n",
       " -0.11463874826571932,\n",
       " -0.13465985931527202,\n",
       " -0.08811216169045738,\n",
       " 0.03965449716291677,\n",
       " 0.10917010283228461,\n",
       " 0.10410308996330381,\n",
       " 0.08366778064640891,\n",
       " 0.06474214964691007,\n",
       " 0.05014969342107498,\n",
       " 0.03913730890048891]"
      ]
     },
     "execution_count": 241,
     "metadata": {},
     "output_type": "execute_result"
    }
   ],
   "source": [
    "medebetalst"
   ]
  },
  {
   "cell_type": "code",
   "execution_count": 271,
   "metadata": {},
   "outputs": [
    {
     "data": {
      "text/plain": [
       "(array([7.0000e+01, 1.7780e+03, 1.2623e+04, 3.4030e+04, 3.6906e+04,\n",
       "        1.8714e+04, 4.9810e+03, 8.0100e+02, 8.7000e+01, 5.0000e+00]),\n",
       " array([ 7.52145596,  8.19198266,  8.86250937,  9.53303607, 10.20356277,\n",
       "        10.87408948, 11.54461618, 12.21514289, 12.88566959, 13.55619629,\n",
       "        14.226723  ]),\n",
       " <a list of 10 Patch objects>)"
      ]
     },
     "execution_count": 271,
     "metadata": {},
     "output_type": "execute_result"
    },
    {
     "data": {
      "image/png": "[encoded data removed]",
      "text/plain": [
       "<Figure size 432x288 with 1 Axes>"
      ]
     },
     "metadata": {},
     "output_type": "display_data"
    }
   ],
   "source": [
    "plt.hist(pd.DataFrame(param[10:])[2])"
   ]
  },
  {
   "cell_type": "code",
   "execution_count": 265,
   "metadata": {},
   "outputs": [
    {
     "ename": "TypeError",
     "evalue": "'float' object is not subscriptable",
     "output_type": "error",
     "traceback": [
      "\u001b[1;31m---------------------------------------------------------------------------\u001b[0m",
      "\u001b[1;31mTypeError\u001b[0m                                 Traceback (most recent call last)",
      "\u001b[1;32m<ipython-input-265-6d3c546ed502>\u001b[0m in \u001b[0;36m<module>\u001b[1;34m()\u001b[0m\n\u001b[1;32m----> 1\u001b[1;33m \u001b[0mlist\u001b[0m\u001b[1;33m(\u001b[0m\u001b[0mmap\u001b[0m\u001b[1;33m(\u001b[0m\u001b[1;32mlambda\u001b[0m \u001b[0mx\u001b[0m \u001b[1;33m:\u001b[0m \u001b[0mx\u001b[0m\u001b[1;33m[\u001b[0m\u001b[1;36m2\u001b[0m\u001b[1;33m]\u001b[0m\u001b[1;33m,\u001b[0m\u001b[0mparam\u001b[0m\u001b[1;33m)\u001b[0m\u001b[1;33m)\u001b[0m\u001b[1;33m\u001b[0m\u001b[0m\n\u001b[0m",
      "\u001b[1;32m<ipython-input-265-6d3c546ed502>\u001b[0m in \u001b[0;36m<lambda>\u001b[1;34m(x)\u001b[0m\n\u001b[1;32m----> 1\u001b[1;33m \u001b[0mlist\u001b[0m\u001b[1;33m(\u001b[0m\u001b[0mmap\u001b[0m\u001b[1;33m(\u001b[0m\u001b[1;32mlambda\u001b[0m \u001b[0mx\u001b[0m \u001b[1;33m:\u001b[0m \u001b[0mx\u001b[0m\u001b[1;33m[\u001b[0m\u001b[1;36m2\u001b[0m\u001b[1;33m]\u001b[0m\u001b[1;33m,\u001b[0m\u001b[0mparam\u001b[0m\u001b[1;33m)\u001b[0m\u001b[1;33m)\u001b[0m\u001b[1;33m\u001b[0m\u001b[0m\n\u001b[0m",
      "\u001b[1;31mTypeError\u001b[0m: 'float' object is not subscriptable"
     ]
    }
   ],
   "source": [
    "list(map(lambda x : x[2],param))"
   ]
  },
  {
   "cell_type": "code",
   "execution_count": 266,
   "metadata": {},
   "outputs": [
    {
     "data": {
      "text/plain": [
       "array([-0.71541139, -0.04106506, -0.05038833, -0.06464299, -0.08764332,\n",
       "       -0.11593132, -0.13811475, -0.08998379,  0.        ,  0.12070426,\n",
       "        0.09741121,  0.08679041,  0.0650007 ,  0.05176241,  0.03825858])"
      ]
     },
     "execution_count": 266,
     "metadata": {},
     "output_type": "execute_result"
    }
   ],
   "source": [
    "param[]"
   ]
  },
  {
   "cell_type": "code",
   "execution_count": 268,
   "metadata": {},
   "outputs": [
    {
     "data": {
      "text/plain": [
       "[array([-0.618074  , -0.03538881, -0.05582441, -0.06084002, -0.07473919,\n",
       "        -0.11785221, -0.13805748, -0.08545485,  0.05277963,  0.09879106,\n",
       "         0.1027466 ,  0.08122603,  0.06045805,  0.03975094,  0.0423797 ]),\n",
       " 0.0019989003256624845,\n",
       " 9.265422830169321,\n",
       " array([0.07252363, 0.00335548, 0.00533142, 0.0057443 , 0.00744978,\n",
       "        0.01122205, 0.01232287, 0.00833653, 0.00518264, 0.00915454,\n",
       "        0.01005197, 0.00814629, 0.00594359, 0.00384997, 0.00410931]),\n",
       " 13.828908885583639]"
      ]
     },
     "execution_count": 268,
     "metadata": {},
     "output_type": "execute_result"
    }
   ],
   "source": [
    "param[10]"
   ]
  },
  {
   "cell_type": "code",
   "execution_count": null,
   "metadata": {},
   "outputs": [],
   "source": []
  }
 ],
 "metadata": {
  "kernelspec": {
   "display_name": "Python 3",
   "language": "python",
   "name": "python3"
  },
  "language_info": {
   "codemirror_mode": {
    "name": "ipython",
    "version": 3
   },
   "file_extension": ".py",
   "mimetype": "text/x-python",
   "name": "python",
   "nbconvert_exporter": "python",
   "pygments_lexer": "ipython3",
   "version": "3.6.5"
  }
 },
 "nbformat": 4,
 "nbformat_minor": 2
}
