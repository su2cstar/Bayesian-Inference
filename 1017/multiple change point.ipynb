{
 "cells": [
  {
   "cell_type": "code",
   "execution_count": 1,
   "metadata": {},
   "outputs": [],
   "source": [
    "import numpy as np\n",
    "import pandas as pd\n",
    "import matplotlib.pyplot as plt\n",
    "import seaborn as sns\n",
    "import statsmodels.api as sm\n",
    "from scipy.special import digamma"
   ]
  },
  {
   "cell_type": "markdown",
   "metadata": {},
   "source": [
    "Make simulation data"
   ]
  },
  {
   "cell_type": "code",
   "execution_count": 12,
   "metadata": {},
   "outputs": [],
   "source": [
    "def poisson_change_point(n_change_point,a,b,expected_k, niter = 1000):\n",
    "    \n",
    "    m = n_change_point\n",
    "    al_lam = np.repeat(0., m+1)\n",
    "    be_lam = np.repeat(0., m+1)\n",
    "    expected_lam = np.repeat(0., m+1)\n",
    "    expected_loglam = np.repeat(0., m+1)\n",
    "    p = np.repeat(0,m)\n",
    "    p = p.astype('object')\n",
    "\n",
    "    for iteration in range(niter):\n",
    "        for j in range(m + 1):\n",
    "            if j == 0:\n",
    "                al_lam[j] = a[j] + y[0:int(round(expected_k[j]))].sum()\n",
    "                be_lam[j] = b[j] + expected_k[j]\n",
    "                expected_lam[j] = al_lam[j]/be_lam[j]\n",
    "                expected_loglam[j] = -np.log(be_lam[j]) + digamma(al_lam[j])\n",
    "            elif j == m:\n",
    "                al_lam[j] = a[j] + y[int(round(expected_k[j-1])):].sum()\n",
    "                be_lam[j] = b[j] + len(y) - expected_k[j-1]\n",
    "                expected_lam[j] = al_lam[j]/be_lam[j]\n",
    "                expected_loglam[j] = -np.log(be_lam[j]) + digamma(al_lam[j])\n",
    "            else:\n",
    "                al_lam[j] = a[j] + y[int(round(expected_k[j-1])):int(round(expected_k[j]))].sum()\n",
    "                be_lam[j] = b[j] + expected_k[j] - expected_k[j-1]\n",
    "                expected_lam[j] = al_lam[j]/be_lam[j]\n",
    "                expected_loglam[j] = -np.log(be_lam[j]) + digamma(al_lam[j])\n",
    "\n",
    "\n",
    "        for j in range(m):\n",
    "            prop = np.repeat(0.,len(y))\n",
    "            if j==0:\n",
    "                for k in range(len(y)):\n",
    "                    prop[k] = np.exp((k+1)*(expected_lam[j+1]-expected_lam[j]) + (expected_loglam[j]- expected_loglam[j+1])*(y[:k].sum()))\n",
    "            else:\n",
    "                for k in range(int(round(expected_k[j-1])),len(y)):\n",
    "                    prop[k] = np.exp((k+1)*(expected_lam[j+1]-expected_lam[j]) + (expected_loglam[j]- expected_loglam[j+1])*(y[int(round(expected_k[j-1])):k].sum()))\n",
    "            p[j] = prop / prop.sum()\n",
    "            expected_k[j] = (p[j] * np.arange(1,(len(y)+1))).sum()\n",
    "    return(expected_k,expected_lam,p)"
   ]
  },
  {
   "cell_type": "markdown",
   "metadata": {},
   "source": [
    "# simulation 1"
   ]
  },
  {
   "cell_type": "code",
   "execution_count": null,
   "metadata": {},
   "outputs": [],
   "source": [
    "np.random.seed(4428)\n",
    "y = np.concatenate([np.random.poisson(lam = 10,size =10),\n",
    "                    np.random.poisson(lam = 30,size =30),\n",
    "                    np.random.poisson(lam = 10,size =20),\n",
    "                    np.random.poisson(lam = 20,size =50)])\n",
    "y = y.astype('float')\n",
    "plt.title('simulation data')\n",
    "plt.plot(y,color='gray')\n",
    "plt.show()"
   ]
  },
  {
   "cell_type": "code",
   "execution_count": 24,
   "metadata": {},
   "outputs": [],
   "source": [
    "m = 3\n",
    "b = np.array([1,1,1,1])\n",
    "a = np.array([10,20,30,40])\n",
    "expected_k = np.array([10.,30.,50.])"
   ]
  },
  {
   "cell_type": "code",
   "execution_count": 25,
   "metadata": {},
   "outputs": [],
   "source": [
    "result = poisson_change_point(3,a,b,expected_k)"
   ]
  },
  {
   "cell_type": "code",
   "execution_count": 17,
   "metadata": {},
   "outputs": [
    {
     "data": {
      "text/plain": [
       "array([10.99622303, 41.00408348, 61.29053603])"
      ]
     },
     "execution_count": 17,
     "metadata": {},
     "output_type": "execute_result"
    }
   ],
   "source": [
    "result[0]"
   ]
  },
  {
   "cell_type": "code",
   "execution_count": 18,
   "metadata": {},
   "outputs": [
    {
     "data": {
      "text/plain": [
       "array([11.50362073, 29.25064764, 10.89895085, 21.34402416])"
      ]
     },
     "execution_count": 18,
     "metadata": {},
     "output_type": "execute_result"
    }
   ],
   "source": [
    "result[1]"
   ]
  },
  {
   "cell_type": "code",
   "execution_count": 19,
   "metadata": {},
   "outputs": [
    {
     "data": {
      "image/png": "[encoded data removed]",
      "text/plain": [
       "<Figure size 1080x360 with 1 Axes>"
      ]
     },
     "metadata": {
      "needs_background": "light"
     },
     "output_type": "display_data"
    }
   ],
   "source": [
    "plt.figure(figsize =(10,5))\n",
    "plt.title('prop of changing point')\n",
    "plt.bar(x= np.arange(1,len(y)+1),height=result[2][0],color='blue')\n",
    "plt.bar(x= np.arange(1,len(y)+1),height=result[2][1],color='red')\n",
    "plt.bar(x= np.arange(1,len(y)+1),height=result[2][2],color='gray')\n",
    "plt.show()"
   ]
  },
  {
   "cell_type": "markdown",
   "metadata": {},
   "source": [
    "# simulation 2"
   ]
  },
  {
   "cell_type": "code",
   "execution_count": 26,
   "metadata": {},
   "outputs": [
    {
     "data": {
      "image/png": "[encoded data removed]",
      "text/plain": [
       "<Figure size 432x288 with 1 Axes>"
      ]
     },
     "metadata": {
      "needs_background": "light"
     },
     "output_type": "display_data"
    }
   ],
   "source": [
    "np.random.seed(4428)\n",
    "y = np.concatenate([np.random.poisson(lam = 1,size =10),\n",
    "                    np.random.poisson(lam = 3,size =30),\n",
    "                    np.random.poisson(lam = 1,size =20),\n",
    "                    np.random.poisson(lam = 2,size =50)])\n",
    "y = y.astype('float')\n",
    "plt.title('simulation data')\n",
    "plt.plot(y,color='gray')\n",
    "plt.show()"
   ]
  },
  {
   "cell_type": "code",
   "execution_count": 44,
   "metadata": {},
   "outputs": [],
   "source": [
    "m = 3\n",
    "b = np.array([1,1,1,1])\n",
    "a = np.array([3,3,3,3])\n",
    "expected_k = np.array([10.,30.,50.])"
   ]
  },
  {
   "cell_type": "code",
   "execution_count": 45,
   "metadata": {},
   "outputs": [],
   "source": [
    "result = poisson_change_point(3,a,b,expected_k)"
   ]
  },
  {
   "cell_type": "code",
   "execution_count": 46,
   "metadata": {},
   "outputs": [
    {
     "data": {
      "text/plain": [
       "array([ 9.02726701, 80.64847448, 96.63133274])"
      ]
     },
     "execution_count": 46,
     "metadata": {},
     "output_type": "execute_result"
    }
   ],
   "source": [
    "result[0]"
   ]
  },
  {
   "cell_type": "code",
   "execution_count": 47,
   "metadata": {},
   "outputs": [
    {
     "data": {
      "text/plain": [
       "array([1.09747922, 1.89957067, 1.96468614, 2.17040579])"
      ]
     },
     "execution_count": 47,
     "metadata": {},
     "output_type": "execute_result"
    }
   ],
   "source": [
    "result[1]"
   ]
  },
  {
   "cell_type": "code",
   "execution_count": 48,
   "metadata": {
    "scrolled": true
   },
   "outputs": [
    {
     "data": {
      "image/png": "[encoded data removed]",
      "text/plain": [
       "<Figure size 720x360 with 1 Axes>"
      ]
     },
     "metadata": {
      "needs_background": "light"
     },
     "output_type": "display_data"
    }
   ],
   "source": [
    "plt.figure(figsize =(10,5))\n",
    "plt.title('prop of changing point')\n",
    "plt.bar(x= np.arange(1,len(y)+1),height=result[2][0],color='blue')\n",
    "plt.bar(x= np.arange(1,len(y)+1),height=result[2][1],color='red')\n",
    "plt.bar(x= np.arange(1,len(y)+1),height=result[2][2],color='gray')\n",
    "plt.show()"
   ]
  },
  {
   "cell_type": "markdown",
   "metadata": {},
   "source": [
    "# simulation 3"
   ]
  },
  {
   "cell_type": "code",
   "execution_count": 49,
   "metadata": {},
   "outputs": [
    {
     "data": {
      "image/png": "[encoded data removed]",
      "text/plain": [
       "<Figure size 432x288 with 1 Axes>"
      ]
     },
     "metadata": {
      "needs_background": "light"
     },
     "output_type": "display_data"
    }
   ],
   "source": [
    "np.random.seed(4428)\n",
    "y = np.concatenate([np.random.poisson(lam = 1,size =100),\n",
    "                    np.random.poisson(lam = 3,size =300),\n",
    "                    np.random.poisson(lam = 1,size =200),\n",
    "                    np.random.poisson(lam = 2,size =500)])\n",
    "y = y.astype('float')\n",
    "plt.title('simulation data')\n",
    "plt.plot(y,color='gray')\n",
    "plt.show()"
   ]
  },
  {
   "cell_type": "code",
   "execution_count": 58,
   "metadata": {},
   "outputs": [],
   "source": [
    "m = 3\n",
    "b = np.array([3,3,3,3])\n",
    "a = np.array([3,3,3,3])\n",
    "expected_k = np.array([100.,300.,500.])"
   ]
  },
  {
   "cell_type": "code",
   "execution_count": 59,
   "metadata": {},
   "outputs": [],
   "source": [
    "result = poisson_change_point(3,a,b,expected_k)"
   ]
  },
  {
   "cell_type": "code",
   "execution_count": 60,
   "metadata": {},
   "outputs": [
    {
     "data": {
      "text/plain": [
       "array([ 99.9295771 , 401.4922917 , 618.40744463])"
      ]
     },
     "execution_count": 60,
     "metadata": {},
     "output_type": "execute_result"
    }
   ],
   "source": [
    "result[0]"
   ]
  },
  {
   "cell_type": "code",
   "execution_count": 61,
   "metadata": {},
   "outputs": [
    {
     "data": {
      "text/plain": [
       "array([0.92296114, 2.9550564 , 1.12770765, 1.99342724])"
      ]
     },
     "execution_count": 61,
     "metadata": {},
     "output_type": "execute_result"
    }
   ],
   "source": [
    "result[1]"
   ]
  },
  {
   "cell_type": "code",
   "execution_count": 63,
   "metadata": {
    "scrolled": true
   },
   "outputs": [
    {
     "data": {
      "image/png": "[encoded data removed]",
      "text/plain": [
       "<Figure size 1440x360 with 1 Axes>"
      ]
     },
     "metadata": {
      "needs_background": "light"
     },
     "output_type": "display_data"
    }
   ],
   "source": [
    "plt.figure(figsize =(20,5))\n",
    "plt.title('prop of changing point')\n",
    "plt.bar(x= np.arange(1,len(y)+1),height=result[2][0],color='blue')\n",
    "plt.bar(x= np.arange(1,len(y)+1),height=result[2][1],color='red')\n",
    "plt.bar(x= np.arange(1,len(y)+1),height=result[2][2],color='gray')\n",
    "plt.show()"
   ]
  },
  {
   "cell_type": "code",
   "execution_count": null,
   "metadata": {},
   "outputs": [],
   "source": []
  }
 ],
 "metadata": {
  "kernelspec": {
   "display_name": "Python 3",
   "language": "python",
   "name": "python3"
  },
  "language_info": {
   "codemirror_mode": {
    "name": "ipython",
    "version": 3
   },
   "file_extension": ".py",
   "mimetype": "text/x-python",
   "name": "python",
   "nbconvert_exporter": "python",
   "pygments_lexer": "ipython3",
   "version": "3.7.3"
  }
 },
 "nbformat": 4,
 "nbformat_minor": 2
}
